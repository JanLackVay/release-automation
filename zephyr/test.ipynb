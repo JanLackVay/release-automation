{
 "cells": [
  {
   "cell_type": "code",
   "execution_count": 2,
   "metadata": {},
   "outputs": [],
   "source": [
    "import requests\n",
    "import yaml "
   ]
  },
  {
   "cell_type": "code",
   "execution_count": 27,
   "metadata": {},
   "outputs": [],
   "source": [
    "import argparse\n",
    "import json\n",
    "\n",
    "import requests\n",
    "import yaml\n",
    "from requests.auth import HTTPBasicAuth\n",
    "\n",
    "URL = \"https://vayio.atlassian.net/rest/api/2/issue\"\n",
    "\n",
    "username = yaml.safe_load(open(\"credentials.yaml\"))[\"user_name\"]\n",
    "api_token = yaml.safe_load(open(\"credentials.yaml\"))[\"jira_api_token\"]\n",
    "\n",
    "# Construct the basic authentication string\n",
    "auth = HTTPBasicAuth(username, api_token)\n",
    "headers = {\"Accept\": \"application/json\", \"Content-Type\": \"application/json\"}\n",
    "payload = {}\n",
    "\n",
    "response = requests.request(\"GET\", URL+\"/REE-58360\", data=payload, headers=headers, auth=auth).json()"
   ]
  },
  {
   "cell_type": "code",
   "execution_count": 29,
   "metadata": {},
   "outputs": [
    {
     "data": {
      "text/plain": [
       "{'id': '1012122',\n",
       " 'key': 'REE-58476',\n",
       " 'self': 'https://vayio.atlassian.net/rest/api/2/issue/1012122',\n",
       " 'fields': {'summary': 'VSR-2.13.X [vDrive, vREECU]',\n",
       "  'status': {'self': 'https://vayio.atlassian.net/rest/api/2/status/10009',\n",
       "   'description': 'This status is managed internally by Jira Software',\n",
       "   'iconUrl': 'https://vayio.atlassian.net/',\n",
       "   'name': 'NEW',\n",
       "   'id': '10009',\n",
       "   'statusCategory': {'self': 'https://vayio.atlassian.net/rest/api/2/statuscategory/2',\n",
       "    'id': 2,\n",
       "    'key': 'new',\n",
       "    'colorName': 'blue-gray',\n",
       "    'name': 'To Do'}},\n",
       "  'priority': {'self': 'https://vayio.atlassian.net/rest/api/2/priority/1',\n",
       "   'iconUrl': 'https://raw.githubusercontent.com/candoola/custom_jira_priority_icons/6e12f354a63458fb6a94eee1e8d2048fa3e7eddd/P0.png',\n",
       "   'name': 'P0',\n",
       "   'id': '1'},\n",
       "  'issuetype': {'self': 'https://vayio.atlassian.net/rest/api/2/issuetype/10000',\n",
       "   'id': '10000',\n",
       "   'description': 'A big user story that needs to be broken down. Created by Jira Software - do not edit or delete.',\n",
       "   'iconUrl': 'https://vayio.atlassian.net/images/icons/issuetypes/epic.svg',\n",
       "   'name': 'Epic',\n",
       "   'subtask': False,\n",
       "   'hierarchyLevel': 1}}}"
      ]
     },
     "execution_count": 29,
     "metadata": {},
     "output_type": "execute_result"
    }
   ],
   "source": [
    "response[\"fields\"][\"parent\"]"
   ]
  },
  {
   "cell_type": "code",
   "execution_count": 20,
   "metadata": {},
   "outputs": [
    {
     "data": {
      "text/plain": [
       "'VSR-2.10.X [vDrive]'"
      ]
     },
     "execution_count": 20,
     "metadata": {},
     "output_type": "execute_result"
    }
   ],
   "source": [
    "vsr_version=\"2.15.0\"\n",
    "\n",
    "payload_items = {\n",
    "    \"assignee_id\": \"61ad43e1c510bc006b3458c4\",  # ['fields']['assignee'] Jan Lack\n",
    "    \"epic_id\": \"10000\",  # ['fields']['issuetype']['id'] Epic\n",
    "    \"epci_name\": \"customfield_10011\",  # ['fields']['customfield_10011'] EPCI Name\n",
    "    \n",
    "    \"additional_notes\": \"customfield_10060\",\n",
    "    \"expected_test_result\": \"customfield_10062\",\n",
    "    \"test_location\": \"customfield_10571\",\n",
    "    \"p_0\": \"1\",\n",
    "    \"epic_title\": f\"VSR-{vsr_version}\",\n",
    "    \"labels\": [f\"VSR-{vsr_version}\"],\n",
    "}\n",
    "\n",
    "if vsr_version:\n",
    "    payload_items[\"labels\"] = [f\"VSR-{vsr_version}\"]\n",
    "    payload_items[\"epic_title\"] = f\"VSR-{vsr_version}\"\n",
    "else:\n",
    "    payload_items[\"labels\"] = [f\"release-{vdrive_version}\"]\n",
    "    payload_items[\"epic_title\"] = f\"release-{vdrive_version}\"\n"
   ]
  },
  {
   "cell_type": "code",
   "execution_count": 22,
   "metadata": {},
   "outputs": [],
   "source": [
    "payload = json.dumps(\n",
    "    {\n",
    "        \"fields\": {\n",
    "            \"summary\": payload_items[\"epic_title\"],\n",
    "            \"issuetype\": {\"id\": payload_items[\"epic_id\"]},\n",
    "            \"priority\": {\"id\": payload_items[\"p_0\"]},\n",
    "            \"project\": {\"key\": \"REE\"},\n",
    "            \"assignee\": {\"account_id\": payload_items[\"assignee_id\"]},\n",
    "            \"labels\": payload_items[\"labels\"],\n",
    "        },\n",
    "    }\n",
    ")"
   ]
  },
  {
   "cell_type": "code",
   "execution_count": 23,
   "metadata": {},
   "outputs": [],
   "source": [
    "response = requests.request(\"POST\", URL, data=payload, headers=headers, auth=auth)"
   ]
  },
  {
   "cell_type": "code",
   "execution_count": 24,
   "metadata": {},
   "outputs": [
    {
     "data": {
      "text/plain": [
       "{'id': '1012239',\n",
       " 'key': 'REE-58488',\n",
       " 'self': 'https://vayio.atlassian.net/rest/api/2/issue/1012239'}"
      ]
     },
     "execution_count": 24,
     "metadata": {},
     "output_type": "execute_result"
    }
   ],
   "source": [
    "response.json() "
   ]
  },
  {
   "cell_type": "code",
   "execution_count": 64,
   "metadata": {},
   "outputs": [
    {
     "data": {
      "text/plain": [
       "{'self': 'https://api.zephyrscale.smartbear.com/v2/testcycles/16495670/links',\n",
       " 'issues': [],\n",
       " 'webLinks': [],\n",
       " 'testPlans': []}"
      ]
     },
     "execution_count": 64,
     "metadata": {},
     "output_type": "execute_result"
    }
   ],
   "source": [
    "#url_testcycles = 'https://api.zephyrscale.smartbear.com/v2/projects/53802'\n",
    "#url_testcycles = 'https://api.zephyrscale.smartbear.com/v2/statuses/942092'\n",
    "url_testcycles = 'https://api.zephyrscale.smartbear.com/v2/testcycles/16495670/links'\n",
    "\n",
    "requests.get(url_testcycles, headers=headers_api).json()"
   ]
  },
  {
   "cell_type": "code",
   "execution_count": 58,
   "metadata": {},
   "outputs": [],
   "source": [
    "cycle = requests.post(\n",
    "    url_testcycles,\n",
    "    headers=headers_api,\n",
    "    json=parameters\n",
    ").json()"
   ]
  },
  {
   "cell_type": "code",
   "execution_count": 66,
   "metadata": {},
   "outputs": [],
   "source": [
    "from jira import JIRA"
   ]
  },
  {
   "cell_type": "code",
   "execution_count": 74,
   "metadata": {},
   "outputs": [],
   "source": [
    "jiraOptions = {'server': \"https://vayio.atlassian.net/\"}\n",
    "jira = JIRA(options=jiraOptions, basic_auth=(\"jan.lack@vay.io\", \"ATATT3xFfGF0NDFonGO1rLEll9xr08Z7XQ6Znceb1-za6IaJLtSoa2VpIPC2gONxbJZUc4Q_y5ra3zNdI1iQQBGdxNuQ5Y45NdpZwOS7jflgncSFfGq8eGstpO0Xz9_SoxJPNgRTtAgRcmPEZJeaLKOCDgJQ5QyiqAMo19N8hMbqQNKZ6h0e8Wo=8F4A4A59\"))"
   ]
  },
  {
   "cell_type": "code",
   "execution_count": 75,
   "metadata": {},
   "outputs": [
    {
     "ename": "JIRAError",
     "evalue": "JiraError HTTP 404 url: https://vayio.atlassian.net/rest/api/2/project/SB\n\ttext: No project could be found with key 'SB'.\n\t\n\tresponse headers = {'Date': 'Thu, 04 Jan 2024 16:04:55 GMT', 'Content-Type': 'application/json;charset=UTF-8', 'Server': 'AtlassianEdge', 'Timing-Allow-Origin': '*', 'X-Arequestid': '510a20fba016d4f78591f019c933ab50', 'X-Seraph-Loginreason': 'AUTHENTICATED_FAILED', 'Cache-Control': 'no-cache, no-store, no-transform', 'Content-Encoding': 'gzip', 'X-Content-Type-Options': 'nosniff', 'X-Xss-Protection': '1; mode=block', 'Atl-Traceid': '797324baecb64861a8b1f00bcc8ded93', 'Report-To': '{\"endpoints\": [{\"url\": \"https://dz8aopenkvv6s.cloudfront.net\"}], \"group\": \"endpoint-1\", \"include_subdomains\": true, \"max_age\": 600}', 'Nel': '{\"failure_fraction\": 0.001, \"include_subdomains\": true, \"max_age\": 600, \"report_to\": \"endpoint-1\"}', 'Strict-Transport-Security': 'max-age=63072000; includeSubDomains; preload', 'Transfer-Encoding': 'chunked'}\n\tresponse text = {\"errorMessages\":[\"No project could be found with key 'SB'.\"],\"errors\":{}}",
     "output_type": "error",
     "traceback": [
      "\u001b[0;31m---------------------------------------------------------------------------\u001b[0m",
      "\u001b[0;31mJIRAError\u001b[0m                                 Traceback (most recent call last)",
      "Cell \u001b[0;32mIn[75], line 1\u001b[0m\n\u001b[0;32m----> 1\u001b[0m new_epic \u001b[38;5;241m=\u001b[39m \u001b[43mjira\u001b[49m\u001b[38;5;241;43m.\u001b[39;49m\u001b[43mcreate_issue\u001b[49m\u001b[43m(\u001b[49m\u001b[43mproject\u001b[49m\u001b[38;5;241;43m=\u001b[39;49m\u001b[38;5;124;43m'\u001b[39;49m\u001b[38;5;124;43mSB\u001b[39;49m\u001b[38;5;124;43m'\u001b[39;49m\u001b[43m,\u001b[49m\n\u001b[1;32m      2\u001b[0m \u001b[43m                             \u001b[49m\u001b[43mcustomfield_10011\u001b[49m\u001b[38;5;241;43m=\u001b[39;49m\u001b[38;5;124;43m\"\u001b[39;49m\u001b[38;5;124;43mtest_jan\u001b[39;49m\u001b[38;5;124;43m\"\u001b[39;49m\u001b[43m,\u001b[49m\n\u001b[1;32m      3\u001b[0m \u001b[43m                             \u001b[49m\u001b[43msummary\u001b[49m\u001b[38;5;241;43m=\u001b[39;49m\u001b[38;5;124;43m\"\u001b[39;49m\u001b[38;5;124;43mtest_jan\u001b[39;49m\u001b[38;5;124;43m\"\u001b[39;49m\u001b[43m,\u001b[49m\n\u001b[1;32m      4\u001b[0m \u001b[43m                             \u001b[49m\u001b[43mdescription\u001b[49m\u001b[38;5;241;43m=\u001b[39;49m\u001b[38;5;124;43m\"\u001b[39;49m\u001b[38;5;124;43mtest_jan\u001b[39;49m\u001b[38;5;124;43m\"\u001b[39;49m\u001b[43m,\u001b[49m\n\u001b[1;32m      5\u001b[0m \u001b[43m                             \u001b[49m\u001b[43missuetype\u001b[49m\u001b[38;5;241;43m=\u001b[39;49m\u001b[43m{\u001b[49m\u001b[38;5;124;43m'\u001b[39;49m\u001b[38;5;124;43mname\u001b[39;49m\u001b[38;5;124;43m'\u001b[39;49m\u001b[43m:\u001b[49m\u001b[43m \u001b[49m\u001b[38;5;124;43m'\u001b[39;49m\u001b[38;5;124;43mEpic\u001b[39;49m\u001b[38;5;124;43m'\u001b[39;49m\u001b[43m}\u001b[49m\u001b[43m,\u001b[49m\n\u001b[1;32m      6\u001b[0m \u001b[43m                             \u001b[49m\u001b[43m)\u001b[49m\n",
      "File \u001b[0;32m~/.pyenv/versions/3.11.0/envs/release/lib/python3.11/site-packages/jira/client.py:1501\u001b[0m, in \u001b[0;36mJIRA.create_issue\u001b[0;34m(self, fields, prefetch, **fieldargs)\u001b[0m\n\u001b[1;32m   1499\u001b[0m project_id \u001b[38;5;241m=\u001b[39m \u001b[38;5;28;01mNone\u001b[39;00m\n\u001b[1;32m   1500\u001b[0m \u001b[38;5;28;01mif\u001b[39;00m \u001b[38;5;28misinstance\u001b[39m(p, (\u001b[38;5;28mstr\u001b[39m, \u001b[38;5;28mint\u001b[39m)):\n\u001b[0;32m-> 1501\u001b[0m     project_id \u001b[38;5;241m=\u001b[39m \u001b[38;5;28;43mself\u001b[39;49m\u001b[38;5;241;43m.\u001b[39;49m\u001b[43mproject\u001b[49m\u001b[43m(\u001b[49m\u001b[38;5;28;43mstr\u001b[39;49m\u001b[43m(\u001b[49m\u001b[43mp\u001b[49m\u001b[43m)\u001b[49m\u001b[43m)\u001b[49m\u001b[38;5;241m.\u001b[39mid\n\u001b[1;32m   1502\u001b[0m     data[\u001b[38;5;124m\"\u001b[39m\u001b[38;5;124mfields\u001b[39m\u001b[38;5;124m\"\u001b[39m][\u001b[38;5;124m\"\u001b[39m\u001b[38;5;124mproject\u001b[39m\u001b[38;5;124m\"\u001b[39m] \u001b[38;5;241m=\u001b[39m {\u001b[38;5;124m\"\u001b[39m\u001b[38;5;124mid\u001b[39m\u001b[38;5;124m\"\u001b[39m: project_id}\n\u001b[1;32m   1504\u001b[0m p \u001b[38;5;241m=\u001b[39m data[\u001b[38;5;124m\"\u001b[39m\u001b[38;5;124mfields\u001b[39m\u001b[38;5;124m\"\u001b[39m][\u001b[38;5;124m\"\u001b[39m\u001b[38;5;124missuetype\u001b[39m\u001b[38;5;124m\"\u001b[39m]\n",
      "File \u001b[0;32m~/.pyenv/versions/3.11.0/envs/release/lib/python3.11/site-packages/jira/client.py:2781\u001b[0m, in \u001b[0;36mJIRA.project\u001b[0;34m(self, id, expand)\u001b[0m\n\u001b[1;32m   2771\u001b[0m \u001b[38;5;28;01mdef\u001b[39;00m \u001b[38;5;21mproject\u001b[39m(\u001b[38;5;28mself\u001b[39m, \u001b[38;5;28mid\u001b[39m: \u001b[38;5;28mstr\u001b[39m, expand: \u001b[38;5;28mstr\u001b[39m \u001b[38;5;241m|\u001b[39m \u001b[38;5;28;01mNone\u001b[39;00m \u001b[38;5;241m=\u001b[39m \u001b[38;5;28;01mNone\u001b[39;00m) \u001b[38;5;241m-\u001b[39m\u001b[38;5;241m>\u001b[39m Project:\n\u001b[1;32m   2772\u001b[0m \u001b[38;5;250m    \u001b[39m\u001b[38;5;124;03m\"\"\"Get a project Resource from the server.\u001b[39;00m\n\u001b[1;32m   2773\u001b[0m \n\u001b[1;32m   2774\u001b[0m \u001b[38;5;124;03m    Args:\u001b[39;00m\n\u001b[0;32m   (...)\u001b[0m\n\u001b[1;32m   2779\u001b[0m \u001b[38;5;124;03m        Project\u001b[39;00m\n\u001b[1;32m   2780\u001b[0m \u001b[38;5;124;03m    \"\"\"\u001b[39;00m\n\u001b[0;32m-> 2781\u001b[0m     \u001b[38;5;28;01mreturn\u001b[39;00m \u001b[38;5;28;43mself\u001b[39;49m\u001b[38;5;241;43m.\u001b[39;49m\u001b[43m_find_for_resource\u001b[49m\u001b[43m(\u001b[49m\u001b[43mProject\u001b[49m\u001b[43m,\u001b[49m\u001b[43m \u001b[49m\u001b[38;5;28;43mid\u001b[39;49m\u001b[43m,\u001b[49m\u001b[43m \u001b[49m\u001b[43mexpand\u001b[49m\u001b[38;5;241;43m=\u001b[39;49m\u001b[43mexpand\u001b[49m\u001b[43m)\u001b[49m\n",
      "File \u001b[0;32m~/.pyenv/versions/3.11.0/envs/release/lib/python3.11/site-packages/jira/client.py:3884\u001b[0m, in \u001b[0;36mJIRA._find_for_resource\u001b[0;34m(self, resource_cls, ids, expand)\u001b[0m\n\u001b[1;32m   3882\u001b[0m \u001b[38;5;28;01mif\u001b[39;00m expand \u001b[38;5;129;01mis\u001b[39;00m \u001b[38;5;129;01mnot\u001b[39;00m \u001b[38;5;28;01mNone\u001b[39;00m:\n\u001b[1;32m   3883\u001b[0m     params[\u001b[38;5;124m\"\u001b[39m\u001b[38;5;124mexpand\u001b[39m\u001b[38;5;124m\"\u001b[39m] \u001b[38;5;241m=\u001b[39m expand\n\u001b[0;32m-> 3884\u001b[0m \u001b[43mresource\u001b[49m\u001b[38;5;241;43m.\u001b[39;49m\u001b[43mfind\u001b[49m\u001b[43m(\u001b[49m\u001b[38;5;28;43mid\u001b[39;49m\u001b[38;5;241;43m=\u001b[39;49m\u001b[43mids\u001b[49m\u001b[43m,\u001b[49m\u001b[43m \u001b[49m\u001b[43mparams\u001b[49m\u001b[38;5;241;43m=\u001b[39;49m\u001b[43mparams\u001b[49m\u001b[43m)\u001b[49m\n\u001b[1;32m   3885\u001b[0m \u001b[38;5;28;01mif\u001b[39;00m \u001b[38;5;129;01mnot\u001b[39;00m resource:\n\u001b[1;32m   3886\u001b[0m     \u001b[38;5;28;01mraise\u001b[39;00m JIRAError(\u001b[38;5;124m\"\u001b[39m\u001b[38;5;124mUnable to find resource \u001b[39m\u001b[38;5;132;01m%s\u001b[39;00m\u001b[38;5;124m(\u001b[39m\u001b[38;5;132;01m%s\u001b[39;00m\u001b[38;5;124m)\u001b[39m\u001b[38;5;124m\"\u001b[39m, resource_cls, \u001b[38;5;28mstr\u001b[39m(ids))\n",
      "File \u001b[0;32m~/.pyenv/versions/3.11.0/envs/release/lib/python3.11/site-packages/jira/resources.py:259\u001b[0m, in \u001b[0;36mResource.find\u001b[0;34m(self, id, params)\u001b[0m\n\u001b[1;32m    257\u001b[0m     path \u001b[38;5;241m=\u001b[39m \u001b[38;5;28mself\u001b[39m\u001b[38;5;241m.\u001b[39m_resource\u001b[38;5;241m.\u001b[39mformat(\u001b[38;5;28mid\u001b[39m)\n\u001b[1;32m    258\u001b[0m url \u001b[38;5;241m=\u001b[39m \u001b[38;5;28mself\u001b[39m\u001b[38;5;241m.\u001b[39m_get_url(path)\n\u001b[0;32m--> 259\u001b[0m \u001b[38;5;28;43mself\u001b[39;49m\u001b[38;5;241;43m.\u001b[39;49m\u001b[43m_find_by_url\u001b[49m\u001b[43m(\u001b[49m\u001b[43murl\u001b[49m\u001b[43m,\u001b[49m\u001b[43m \u001b[49m\u001b[43mparams\u001b[49m\u001b[43m)\u001b[49m\n",
      "File \u001b[0;32m~/.pyenv/versions/3.11.0/envs/release/lib/python3.11/site-packages/jira/resources.py:275\u001b[0m, in \u001b[0;36mResource._find_by_url\u001b[0;34m(self, url, params)\u001b[0m\n\u001b[1;32m    261\u001b[0m \u001b[38;5;28;01mdef\u001b[39;00m \u001b[38;5;21m_find_by_url\u001b[39m(\n\u001b[1;32m    262\u001b[0m     \u001b[38;5;28mself\u001b[39m,\n\u001b[1;32m    263\u001b[0m     url: \u001b[38;5;28mstr\u001b[39m,\n\u001b[1;32m    264\u001b[0m     params: \u001b[38;5;28mdict\u001b[39m[\u001b[38;5;28mstr\u001b[39m, \u001b[38;5;28mstr\u001b[39m] \u001b[38;5;241m|\u001b[39m \u001b[38;5;28;01mNone\u001b[39;00m \u001b[38;5;241m=\u001b[39m \u001b[38;5;28;01mNone\u001b[39;00m,\n\u001b[1;32m    265\u001b[0m ):\n\u001b[1;32m    266\u001b[0m \u001b[38;5;250m    \u001b[39m\u001b[38;5;124;03m\"\"\"Finds a resource on the specified url.\u001b[39;00m\n\u001b[1;32m    267\u001b[0m \n\u001b[1;32m    268\u001b[0m \u001b[38;5;124;03m    The resource is loaded with the JSON data returned by doing a\u001b[39;00m\n\u001b[0;32m   (...)\u001b[0m\n\u001b[1;32m    273\u001b[0m \u001b[38;5;124;03m        params (Optional[Dict[str, str]]): params\u001b[39;00m\n\u001b[1;32m    274\u001b[0m \u001b[38;5;124;03m    \"\"\"\u001b[39;00m\n\u001b[0;32m--> 275\u001b[0m     \u001b[38;5;28;43mself\u001b[39;49m\u001b[38;5;241;43m.\u001b[39;49m\u001b[43m_load\u001b[49m\u001b[43m(\u001b[49m\u001b[43murl\u001b[49m\u001b[43m,\u001b[49m\u001b[43m \u001b[49m\u001b[43mparams\u001b[49m\u001b[38;5;241;43m=\u001b[39;49m\u001b[43mparams\u001b[49m\u001b[43m)\u001b[49m\n",
      "File \u001b[0;32m~/.pyenv/versions/3.11.0/envs/release/lib/python3.11/site-packages/jira/resources.py:447\u001b[0m, in \u001b[0;36mResource._load\u001b[0;34m(self, url, headers, params, path)\u001b[0m\n\u001b[1;32m    429\u001b[0m \u001b[38;5;28;01mdef\u001b[39;00m \u001b[38;5;21m_load\u001b[39m(\n\u001b[1;32m    430\u001b[0m     \u001b[38;5;28mself\u001b[39m,\n\u001b[1;32m    431\u001b[0m     url: \u001b[38;5;28mstr\u001b[39m,\n\u001b[0;32m   (...)\u001b[0m\n\u001b[1;32m    434\u001b[0m     path: \u001b[38;5;28mstr\u001b[39m \u001b[38;5;241m|\u001b[39m \u001b[38;5;28;01mNone\u001b[39;00m \u001b[38;5;241m=\u001b[39m \u001b[38;5;28;01mNone\u001b[39;00m,\n\u001b[1;32m    435\u001b[0m ):\n\u001b[1;32m    436\u001b[0m \u001b[38;5;250m    \u001b[39m\u001b[38;5;124;03m\"\"\"Load a resource.\u001b[39;00m\n\u001b[1;32m    437\u001b[0m \n\u001b[1;32m    438\u001b[0m \u001b[38;5;124;03m    Args:\u001b[39;00m\n\u001b[0;32m   (...)\u001b[0m\n\u001b[1;32m    445\u001b[0m \u001b[38;5;124;03m        ValueError: If json cannot be loaded\u001b[39;00m\n\u001b[1;32m    446\u001b[0m \u001b[38;5;124;03m    \"\"\"\u001b[39;00m\n\u001b[0;32m--> 447\u001b[0m     r \u001b[38;5;241m=\u001b[39m \u001b[38;5;28;43mself\u001b[39;49m\u001b[38;5;241;43m.\u001b[39;49m\u001b[43m_session\u001b[49m\u001b[38;5;241;43m.\u001b[39;49m\u001b[43mget\u001b[49m\u001b[43m(\u001b[49m\u001b[43murl\u001b[49m\u001b[43m,\u001b[49m\u001b[43m \u001b[49m\u001b[43mheaders\u001b[49m\u001b[38;5;241;43m=\u001b[39;49m\u001b[43mheaders\u001b[49m\u001b[43m,\u001b[49m\u001b[43m \u001b[49m\u001b[43mparams\u001b[49m\u001b[38;5;241;43m=\u001b[39;49m\u001b[43mparams\u001b[49m\u001b[43m)\u001b[49m\n\u001b[1;32m    448\u001b[0m     \u001b[38;5;28;01mtry\u001b[39;00m:\n\u001b[1;32m    449\u001b[0m         j \u001b[38;5;241m=\u001b[39m json_loads(r)\n",
      "File \u001b[0;32m~/.pyenv/versions/3.11.0/envs/release/lib/python3.11/site-packages/requests/sessions.py:602\u001b[0m, in \u001b[0;36mSession.get\u001b[0;34m(self, url, **kwargs)\u001b[0m\n\u001b[1;32m    594\u001b[0m \u001b[38;5;250m\u001b[39m\u001b[38;5;124mr\u001b[39m\u001b[38;5;124;03m\"\"\"Sends a GET request. Returns :class:`Response` object.\u001b[39;00m\n\u001b[1;32m    595\u001b[0m \n\u001b[1;32m    596\u001b[0m \u001b[38;5;124;03m:param url: URL for the new :class:`Request` object.\u001b[39;00m\n\u001b[1;32m    597\u001b[0m \u001b[38;5;124;03m:param \\*\\*kwargs: Optional arguments that ``request`` takes.\u001b[39;00m\n\u001b[1;32m    598\u001b[0m \u001b[38;5;124;03m:rtype: requests.Response\u001b[39;00m\n\u001b[1;32m    599\u001b[0m \u001b[38;5;124;03m\"\"\"\u001b[39;00m\n\u001b[1;32m    601\u001b[0m kwargs\u001b[38;5;241m.\u001b[39msetdefault(\u001b[38;5;124m\"\u001b[39m\u001b[38;5;124mallow_redirects\u001b[39m\u001b[38;5;124m\"\u001b[39m, \u001b[38;5;28;01mTrue\u001b[39;00m)\n\u001b[0;32m--> 602\u001b[0m \u001b[38;5;28;01mreturn\u001b[39;00m \u001b[38;5;28;43mself\u001b[39;49m\u001b[38;5;241;43m.\u001b[39;49m\u001b[43mrequest\u001b[49m\u001b[43m(\u001b[49m\u001b[38;5;124;43m\"\u001b[39;49m\u001b[38;5;124;43mGET\u001b[39;49m\u001b[38;5;124;43m\"\u001b[39;49m\u001b[43m,\u001b[49m\u001b[43m \u001b[49m\u001b[43murl\u001b[49m\u001b[43m,\u001b[49m\u001b[43m \u001b[49m\u001b[38;5;241;43m*\u001b[39;49m\u001b[38;5;241;43m*\u001b[39;49m\u001b[43mkwargs\u001b[49m\u001b[43m)\u001b[49m\n",
      "File \u001b[0;32m~/.pyenv/versions/3.11.0/envs/release/lib/python3.11/site-packages/jira/resilientsession.py:246\u001b[0m, in \u001b[0;36mResilientSession.request\u001b[0;34m(self, method, url, _prepare_retry_class, **kwargs)\u001b[0m\n\u001b[1;32m    243\u001b[0m \u001b[38;5;28;01mif\u001b[39;00m exception \u001b[38;5;129;01mis\u001b[39;00m \u001b[38;5;129;01mnot\u001b[39;00m \u001b[38;5;28;01mNone\u001b[39;00m:\n\u001b[1;32m    244\u001b[0m     \u001b[38;5;66;03m# We got an exception we could not recover from\u001b[39;00m\n\u001b[1;32m    245\u001b[0m     \u001b[38;5;28;01mraise\u001b[39;00m exception\n\u001b[0;32m--> 246\u001b[0m \u001b[38;5;28;01melif\u001b[39;00m \u001b[43mraise_on_error\u001b[49m\u001b[43m(\u001b[49m\u001b[43mresponse\u001b[49m\u001b[43m,\u001b[49m\u001b[43m \u001b[49m\u001b[38;5;241;43m*\u001b[39;49m\u001b[38;5;241;43m*\u001b[39;49m\u001b[43mprocessed_kwargs\u001b[49m\u001b[43m)\u001b[49m:\n\u001b[1;32m    247\u001b[0m     \u001b[38;5;66;03m# raise_on_error will raise an exception if the response is invalid\u001b[39;00m\n\u001b[1;32m    248\u001b[0m     \u001b[38;5;28;01mreturn\u001b[39;00m response\n\u001b[1;32m    249\u001b[0m \u001b[38;5;28;01melse\u001b[39;00m:\n\u001b[1;32m    250\u001b[0m     \u001b[38;5;66;03m# Shouldn't reach here...(but added for mypy's benefit)\u001b[39;00m\n",
      "File \u001b[0;32m~/.pyenv/versions/3.11.0/envs/release/lib/python3.11/site-packages/jira/resilientsession.py:71\u001b[0m, in \u001b[0;36mraise_on_error\u001b[0;34m(resp, **kwargs)\u001b[0m\n\u001b[1;32m     68\u001b[0m \u001b[38;5;28;01mif\u001b[39;00m \u001b[38;5;129;01mnot\u001b[39;00m resp\u001b[38;5;241m.\u001b[39mok:\n\u001b[1;32m     69\u001b[0m     error \u001b[38;5;241m=\u001b[39m parse_error_msg(resp\u001b[38;5;241m=\u001b[39mresp)\n\u001b[0;32m---> 71\u001b[0m     \u001b[38;5;28;01mraise\u001b[39;00m JIRAError(\n\u001b[1;32m     72\u001b[0m         error,\n\u001b[1;32m     73\u001b[0m         status_code\u001b[38;5;241m=\u001b[39mresp\u001b[38;5;241m.\u001b[39mstatus_code,\n\u001b[1;32m     74\u001b[0m         url\u001b[38;5;241m=\u001b[39mresp\u001b[38;5;241m.\u001b[39murl,\n\u001b[1;32m     75\u001b[0m         request\u001b[38;5;241m=\u001b[39mrequest,\n\u001b[1;32m     76\u001b[0m         response\u001b[38;5;241m=\u001b[39mresp,\n\u001b[1;32m     77\u001b[0m         \u001b[38;5;241m*\u001b[39m\u001b[38;5;241m*\u001b[39mkwargs,\n\u001b[1;32m     78\u001b[0m     )\n\u001b[1;32m     80\u001b[0m \u001b[38;5;28;01mreturn\u001b[39;00m \u001b[38;5;28;01mTrue\u001b[39;00m\n",
      "\u001b[0;31mJIRAError\u001b[0m: JiraError HTTP 404 url: https://vayio.atlassian.net/rest/api/2/project/SB\n\ttext: No project could be found with key 'SB'.\n\t\n\tresponse headers = {'Date': 'Thu, 04 Jan 2024 16:04:55 GMT', 'Content-Type': 'application/json;charset=UTF-8', 'Server': 'AtlassianEdge', 'Timing-Allow-Origin': '*', 'X-Arequestid': '510a20fba016d4f78591f019c933ab50', 'X-Seraph-Loginreason': 'AUTHENTICATED_FAILED', 'Cache-Control': 'no-cache, no-store, no-transform', 'Content-Encoding': 'gzip', 'X-Content-Type-Options': 'nosniff', 'X-Xss-Protection': '1; mode=block', 'Atl-Traceid': '797324baecb64861a8b1f00bcc8ded93', 'Report-To': '{\"endpoints\": [{\"url\": \"https://dz8aopenkvv6s.cloudfront.net\"}], \"group\": \"endpoint-1\", \"include_subdomains\": true, \"max_age\": 600}', 'Nel': '{\"failure_fraction\": 0.001, \"include_subdomains\": true, \"max_age\": 600, \"report_to\": \"endpoint-1\"}', 'Strict-Transport-Security': 'max-age=63072000; includeSubDomains; preload', 'Transfer-Encoding': 'chunked'}\n\tresponse text = {\"errorMessages\":[\"No project could be found with key 'SB'.\"],\"errors\":{}}"
     ]
    }
   ],
   "source": [
    "new_epic = jira.create_issue(project='SB',\n",
    "                             customfield_10011=\"test_jan\",\n",
    "                             summary=\"test_jan\",\n",
    "                             description=\"test_jan\",\n",
    "                             issuetype={'name': 'Epic'},\n",
    "                             )"
   ]
  }
 ],
 "metadata": {
  "kernelspec": {
   "display_name": "release",
   "language": "python",
   "name": "python3"
  },
  "language_info": {
   "codemirror_mode": {
    "name": "ipython",
    "version": 3
   },
   "file_extension": ".py",
   "mimetype": "text/x-python",
   "name": "python",
   "nbconvert_exporter": "python",
   "pygments_lexer": "ipython3",
   "version": "3.11.0"
  }
 },
 "nbformat": 4,
 "nbformat_minor": 2
}
