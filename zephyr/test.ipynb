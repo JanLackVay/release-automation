{
 "cells": [
  {
   "cell_type": "code",
   "execution_count": 2,
   "metadata": {},
   "outputs": [],
   "source": [
    "import requests\n",
    "import yaml "
   ]
  },
  {
   "cell_type": "code",
   "execution_count": 10,
   "metadata": {},
   "outputs": [],
   "source": [
    "url = \"https://api.zephyrscale.smartbear.com/v2/testcases\"\n",
    "token = yaml.safe_load(open(\"credentials.yaml\"))['api_token']\n",
    "headers_api = {\"Authorization\": f\"Bearer {token}\"}\n",
    "\n",
    "\n",
    "vDrive_release_labels = ['vDrive']"
   ]
  },
  {
   "cell_type": "code",
   "execution_count": 8,
   "metadata": {},
   "outputs": [],
   "source": [
    "testcase_amount = requests.get(url, headers=headers_api, params={'maxResults': 1}).json()[\"total\"]"
   ]
  },
  {
   "cell_type": "code",
   "execution_count": 9,
   "metadata": {},
   "outputs": [],
   "source": [
    "all_testcases = requests.get(url, headers=headers_api, params={'maxResults': testcase_amount}).json()"
   ]
  },
  {
   "cell_type": "code",
   "execution_count": 13,
   "metadata": {},
   "outputs": [
    {
     "data": {
      "text/plain": [
       "[3985137,\n",
       " 3985721,\n",
       " 6421435,\n",
       " 13516915,\n",
       " 18712865,\n",
       " 19063348,\n",
       " 19063779,\n",
       " 19093968,\n",
       " 19094043,\n",
       " 19094380,\n",
       " 19129661,\n",
       " 19130072,\n",
       " 19130073,\n",
       " 19130393,\n",
       " 19130802,\n",
       " 19130810,\n",
       " 19131094,\n",
       " 19131215,\n",
       " 19131293,\n",
       " 19132265,\n",
       " 19173111,\n",
       " 19520853,\n",
       " 19797247,\n",
       " 20162353,\n",
       " 20318087,\n",
       " 20816959,\n",
       " 21171893,\n",
       " 25918530,\n",
       " 26350134,\n",
       " 26350145,\n",
       " 26350204,\n",
       " 27111612,\n",
       " 27256294,\n",
       " 28807891,\n",
       " 29385002,\n",
       " 29643618,\n",
       " 31422748,\n",
       " 32661023,\n",
       " 32769712,\n",
       " 37734018,\n",
       " 41390098,\n",
       " 46596759,\n",
       " 51370495,\n",
       " 54663895,\n",
       " 70495594,\n",
       " 76236604,\n",
       " 77384970,\n",
       " 77575403,\n",
       " 78794995,\n",
       " 79141709,\n",
       " 79608590,\n",
       " 80694139,\n",
       " 80695618,\n",
       " 80696685,\n",
       " 80757694,\n",
       " 81209088,\n",
       " 82868503,\n",
       " 83372053,\n",
       " 85387755,\n",
       " 86165294,\n",
       " 87480461,\n",
       " 87915332,\n",
       " 88505769,\n",
       " 89326330,\n",
       " 90771684,\n",
       " 91261899,\n",
       " 96605055,\n",
       " 96639467,\n",
       " 97131545,\n",
       " 97952819,\n",
       " 100062858,\n",
       " 102263888,\n",
       " 102264289,\n",
       " 102266612,\n",
       " 104626347,\n",
       " 104626366,\n",
       " 104626408,\n",
       " 104626735,\n",
       " 105689569,\n",
       " 106922728,\n",
       " 112968088,\n",
       " 115594012]"
      ]
     },
     "execution_count": 13,
     "metadata": {},
     "output_type": "execute_result"
    }
   ],
   "source": [
    "\n",
    "test_cases = [key[\"id\"] for key in all_testcases['values'] if any(label in key.get('labels', []) for label in vDrive_release_labels)]\n",
    "test_cases"
   ]
  },
  {
   "cell_type": "code",
   "execution_count": 60,
   "metadata": {},
   "outputs": [],
   "source": [
    "url_testcycles = \"https://api.zephyrscale.smartbear.com/v2/testcycles/16495670\"\n",
    "\n",
    "parameters = {\n",
    "  \"projectKey\": \"SB\",\n",
    "  \"name\": \"Check axial pump\",\n",
    "  \"description\": \"Regression test cycle 1 to ensure no breaking changes\",\n",
    "  \"createTestCycle\": True,\n",
    "  \"issues\": []\n",
    "}"
   ]
  },
  {
   "cell_type": "code",
   "execution_count": 61,
   "metadata": {},
   "outputs": [
    {
     "data": {
      "text/plain": [
       "{'id': 16495670,\n",
       " 'key': 'SB-R4',\n",
       " 'name': 'Check axial pump',\n",
       " 'project': {'id': 53802,\n",
       "  'self': 'https://api.zephyrscale.smartbear.com/v2/projects/53802'},\n",
       " 'jiraProjectVersion': None,\n",
       " 'status': {'id': 942092,\n",
       "  'self': 'https://api.zephyrscale.smartbear.com/v2/statuses/942092'},\n",
       " 'folder': None,\n",
       " 'description': 'Regression test cycle 1 to ensure no breaking changes',\n",
       " 'plannedStartDate': '2024-01-03T23:00:00Z',\n",
       " 'plannedEndDate': '2024-01-04T23:00:00Z',\n",
       " 'owner': None,\n",
       " 'customFields': {},\n",
       " 'links': {'self': 'https://api.zephyrscale.smartbear.com/v2/testcycles/16495670/links',\n",
       "  'issues': [],\n",
       "  'webLinks': [],\n",
       "  'testPlans': []}}"
      ]
     },
     "execution_count": 61,
     "metadata": {},
     "output_type": "execute_result"
    }
   ],
   "source": [
    "requests.get(url_testcycles, headers=headers_api).json()"
   ]
  },
  {
   "cell_type": "code",
   "execution_count": 64,
   "metadata": {},
   "outputs": [
    {
     "data": {
      "text/plain": [
       "{'self': 'https://api.zephyrscale.smartbear.com/v2/testcycles/16495670/links',\n",
       " 'issues': [],\n",
       " 'webLinks': [],\n",
       " 'testPlans': []}"
      ]
     },
     "execution_count": 64,
     "metadata": {},
     "output_type": "execute_result"
    }
   ],
   "source": [
    "#url_testcycles = 'https://api.zephyrscale.smartbear.com/v2/projects/53802'\n",
    "#url_testcycles = 'https://api.zephyrscale.smartbear.com/v2/statuses/942092'\n",
    "url_testcycles = 'https://api.zephyrscale.smartbear.com/v2/testcycles/16495670/links'\n",
    "\n",
    "requests.get(url_testcycles, headers=headers_api).json()"
   ]
  },
  {
   "cell_type": "code",
   "execution_count": 58,
   "metadata": {},
   "outputs": [],
   "source": [
    "cycle = requests.post(\n",
    "    url_testcycles,\n",
    "    headers=headers_api,\n",
    "    json=parameters\n",
    ").json()"
   ]
  },
  {
   "cell_type": "code",
   "execution_count": 66,
   "metadata": {},
   "outputs": [],
   "source": [
    "from jira import JIRA"
   ]
  },
  {
   "cell_type": "code",
   "execution_count": 67,
   "metadata": {},
   "outputs": [
    {
     "ename": "NameError",
     "evalue": "name 'api_key' is not defined",
     "output_type": "error",
     "traceback": [
      "\u001b[0;31m---------------------------------------------------------------------------\u001b[0m",
      "\u001b[0;31mNameError\u001b[0m                                 Traceback (most recent call last)",
      "Cell \u001b[0;32mIn[67], line 2\u001b[0m\n\u001b[1;32m      1\u001b[0m jiraOptions \u001b[38;5;241m=\u001b[39m {\u001b[38;5;124m'\u001b[39m\u001b[38;5;124mserver\u001b[39m\u001b[38;5;124m'\u001b[39m: \u001b[38;5;124m\"\u001b[39m\u001b[38;5;124mhttps://vayio.atlassian.net/\u001b[39m\u001b[38;5;124m\"\u001b[39m}\n\u001b[0;32m----> 2\u001b[0m jira \u001b[38;5;241m=\u001b[39m JIRA(options\u001b[38;5;241m=\u001b[39mjiraOptions, basic_auth\u001b[38;5;241m=\u001b[39m(\u001b[38;5;124m\"\u001b[39m\u001b[38;5;124mjan.lack@vay.io\u001b[39m\u001b[38;5;124m\"\u001b[39m, \u001b[43mapi_key\u001b[49m))\n",
      "\u001b[0;31mNameError\u001b[0m: name 'api_key' is not defined"
     ]
    }
   ],
   "source": [
    "jiraOptions = {'server': \"https://vayio.atlassian.net/\"}\n",
    "jira = JIRA(options=jiraOptions, basic_auth=(\"jan.lack@vay.io\", \"ATATT3xFfGF0NDFonGO1rLEll9xr08Z7XQ6Znceb1-za6IaJLtSoa2VpIPC2gONxbJZUc4Q_y5ra3zNdI1iQQBGdxNuQ5Y45NdpZwOS7jflgncSFfGq8eGstpO0Xz9_SoxJPNgRTtAgRcmPEZJeaLKOCDgJQ5QyiqAMo19N8hMbqQNKZ6h0e8Wo=8F4A4A59\"))"
   ]
  },
  {
   "cell_type": "code",
   "execution_count": null,
   "metadata": {},
   "outputs": [],
   "source": [
    "new_epic = jira.create_issue(project='TEST',\n",
    "                             customfield_10011=\"test_jan\",\n",
    "                             summary=\"test_jan\",\n",
    "                             description=\"test_jan\",\n",
    "                             issuetype={'name': 'Epic'},\n",
    "                             )"
   ]
  }
 ],
 "metadata": {
  "kernelspec": {
   "display_name": "release",
   "language": "python",
   "name": "python3"
  },
  "language_info": {
   "codemirror_mode": {
    "name": "ipython",
    "version": 3
   },
   "file_extension": ".py",
   "mimetype": "text/x-python",
   "name": "python",
   "nbconvert_exporter": "python",
   "pygments_lexer": "ipython3",
   "version": "3.11.0"
  }
 },
 "nbformat": 4,
 "nbformat_minor": 2
}
