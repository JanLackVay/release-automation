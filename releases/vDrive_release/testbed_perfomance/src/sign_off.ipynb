{
 "cells": [
  {
   "cell_type": "code",
   "execution_count": 1,
   "metadata": {},
   "outputs": [
    {
     "name": "stdout",
     "output_type": "stream",
     "text": [
      "Twingate is running.\n"
     ]
    }
   ],
   "source": [
    "import yaml\n",
    "import src.sign_off_cli as sign_off_cli\n",
    "import src.retrieve_logs as retrieve_logs\n",
    "import src.twingate_status as twingate_status\n",
    "from datetime import datetime"
   ]
  },
  {
   "cell_type": "code",
   "execution_count": 2,
   "metadata": {},
   "outputs": [],
   "source": [
    "benchmark_session_ids = []"
   ]
  },
  {
   "cell_type": "code",
   "execution_count": 3,
   "metadata": {},
   "outputs": [],
   "source": [
    "jenkins_url = \"http://jenkins-ber.reeinfra.net/view/Main%20Testbed%20Queues/\"\n",
    "job_name = \"job/release-testbed-validation-gamma\"\n",
    "build_info_url = f\"{jenkins_url}{job_name}\"\n",
    "branch = \"None\""
   ]
  },
  {
   "cell_type": "code",
   "execution_count": 4,
   "metadata": {},
   "outputs": [],
   "source": [
    "credentials = sign_off_cli.get_credentials()\n",
    "last_successful_build = retrieve_logs.get_last_build_information(\"Successful\", credentials, build_info_url)\n"
   ]
  },
  {
   "cell_type": "code",
   "execution_count": 5,
   "metadata": {},
   "outputs": [
    {
     "data": {
      "text/plain": [
       "[{'build': 2811,\n",
       "  'session_id': 'None',\n",
       "  'branch': 'rc52.0.4',\n",
       "  'time': 1700150746166,\n",
       "  'status': 'FAILURE'},\n",
       " {'build': 2810,\n",
       "  'session_id': 'None',\n",
       "  'branch': 'rc52.0.4',\n",
       "  'time': 1700139925684,\n",
       "  'status': 'FAILURE'},\n",
       " {'build': 2809,\n",
       "  'session_id': 'None',\n",
       "  'branch': 'rc52.0.4',\n",
       "  'time': 1700137130585,\n",
       "  'status': 'FAILURE'}]"
      ]
     },
     "execution_count": 5,
     "metadata": {},
     "output_type": "execute_result"
    }
   ],
   "source": [
    "branch = \"rc52.0.4\"\n",
    "all_builds_for_dedicated_branch = sign_off_cli.get_all_branch_builds(branch, last_successful_build, credentials, build_info_url)\n",
    "all_builds_for_dedicated_branch"
   ]
  },
  {
   "cell_type": "code",
   "execution_count": 18,
   "metadata": {},
   "outputs": [],
   "source": [
    "if not twingate_status.is_twingate_running():\n",
    "    print(\"Twingate is not running. Please start it and try again.\")\n",
    "    exit(1)\n",
    "\n",
    "credentials = sign_off_cli.get_credentials()\n",
    "last_successful_build = retrieve_logs.get_last_build_information(\"Successful\", credentials, build_info_url)\n",
    "console_log = retrieve_logs.get_console_logs(credentials, last_successful_build, build_info_url)\n",
    "list_of_builds = sign_off_cli.get_last_3_succesfull_builds(last_successful_build, credentials, build_info_url)\n",
    "metrics_yaml = sign_off_cli.get_log_yaml(console_log)\n",
    "\n",
    "#retrieve metrics and calculate averag\n",
    "all_metrics = sign_off_cli.collect_metrics(list_of_builds, credentials, build_info_url)\n",
    "metrics_average = sign_off_cli.get_metrics_average(all_metrics)"
   ]
  },
  {
   "cell_type": "code",
   "execution_count": 19,
   "metadata": {},
   "outputs": [
    {
     "name": "stdout",
     "output_type": "stream",
     "text": [
      "Average of following builds: [2857] on Branch: v52.0.8\n",
      "front camera packets/s \t\t 325 332 338\n",
      "front camera Mbit/s \t\t 3.35 3.43 3.5\n",
      "left camera Mbit/s \t\t 1.49 1.52 1.54\n",
      "right camera Mbit/s \t\t 1.49 1.52 1.55\n",
      "back camera Mbit/s \t\t 0.95 0.98 1.02\n",
      "----------------------------------------\n",
      "UDP/TCP Bitrate\n",
      "ROS UDP Mbit/s \t\t\t 0.05 0.05 0.05\n",
      "ROS TCP Mbit/s \t\t\t 0.02 0.03 0.04\n",
      "UDP TS-VE Mbit/s \t\t 0.02 0.02 0.02\n",
      "UDP VE-TS Mbit/s \t\t 0.03 0.03 0.03\n",
      "TCP TS-VE Mbit/s \t\t 0.01 0.01 0.01\n",
      "TCP VE-TS Mbit/s \t\t 0.02 0.02 0.03\n"
     ]
    }
   ],
   "source": [
    "front_camera_packets = 'front camera packets per second_packets_per_second'\n",
    "\n",
    "list_of_keys_camera_bitrate = ['front camera bitrate_kbits_per_second', \n",
    "                'left camera bitrate_kbits_per_second',\n",
    "                'right camera bitrate_kbits_per_second',\n",
    "                'back camera bitrate_kbits_per_second']\n",
    "\n",
    "list_of_keys_camera_new_unit = ['front camera Mbit/s',\n",
    "                              'left camera Mbit/s',\n",
    "                              'right camera Mbit/s',\n",
    "                              'back camera Mbit/s']\n",
    "\n",
    "list_of_keys_udp_tcp_bitrate = ['ROS UDP_kbits_per_second',\n",
    "                'ROS TCP_kbits_per_second',\n",
    "                'UDP TS-VE_kbits_per_second',\n",
    "                'UDP VE-TS_kbits_per_second',\n",
    "                'TCP TS-VE_kbits_per_second',\n",
    "                'TCP VE-TS_kbits_per_second']\n",
    "\n",
    "list_of_keys_udp_tcp_new_unit = ['ROS UDP Mbit/s', \n",
    "                         'ROS TCP Mbit/s',\n",
    "                         'UDP TS-VE Mbit/s',\n",
    "                         'UDP VE-TS Mbit/s',\n",
    "                         'TCP TS-VE Mbit/s',\n",
    "                         'TCP VE-TS Mbit/s']\n",
    "print('Average of following builds:', [build['build'] for build in list_of_builds], \"on Branch:\", list_of_builds[0][\"branch\"])\n",
    "print('front camera packets/s','\\t\\t',\n",
    "      round(metrics_average[front_camera_packets]['minimum']['value']), \n",
    "      round(metrics_average[front_camera_packets]['median']['value']),\n",
    "      round(metrics_average[front_camera_packets]['max']['value']))\n",
    "\n",
    "for key in zip(list_of_keys_camera_bitrate, list_of_keys_camera_new_unit):\n",
    "      if len(key[1]) < 16:\n",
    "            tab = '\\t\\t\\t'\n",
    "      else:\n",
    "            tab = '\\t\\t'\n",
    "      print(key[1],tab,\n",
    "          round(metrics_average[key[0]]['minimum']['value']/1000,2), \n",
    "          round(metrics_average[key[0]]['median']['value']/1000,2),\n",
    "          round(metrics_average[key[0]]['max']['value']/1000,2))\n",
    "print(\"----------------------------------------\")\n",
    "print(\"UDP/TCP Bitrate\")\n",
    "for key in zip(list_of_keys_udp_tcp_bitrate, list_of_keys_udp_tcp_new_unit):\n",
    "\n",
    "      if len(key[1]) < 16:\n",
    "            tab = '\\t\\t\\t'\n",
    "      else:\n",
    "            tab = '\\t\\t'\n",
    "\n",
    "      print(key[1],tab,\n",
    "          round(metrics_average[key[0]]['minimum']['value']/1000,2), \n",
    "          round(metrics_average[key[0]]['median']['value']/1000,2),\n",
    "          round(metrics_average[key[0]]['max']['value']/1000,2))"
   ]
  },
  {
   "cell_type": "markdown",
   "metadata": {},
   "source": [
    "### ________________________________________________\n",
    "### Cells below are outdated as we don't use redash anymore\n",
    "\n",
    "* Following cells generate a links to redash dashboards for the testbed runs"
   ]
  },
  {
   "cell_type": "code",
   "execution_count": 11,
   "metadata": {},
   "outputs": [
    {
     "name": "stdout",
     "output_type": "stream",
     "text": [
      "test bed session IDs for redash:\n",
      "----------------------------------------\n",
      "01HFT91QV8E1Y2HXRMNJ9YYM88\n"
     ]
    }
   ],
   "source": [
    "# print(\"test bed session IDs for redash:\")\n",
    "# print(\"----------------------------------------\")\n",
    "# for build in list_of_builds:\n",
    "#     print(build['session_id'])"
   ]
  },
  {
   "cell_type": "code",
   "execution_count": 12,
   "metadata": {},
   "outputs": [
    {
     "name": "stdout",
     "output_type": "stream",
     "text": [
      "Testbed: release testing metrics - v2\n",
      "https://redash.reeinfra.net/dashboards/96-testbed-release-testing-metrics---v2?p_date=2023-11-22--2023-11-22&p_date.end=2023-11-22&p_date.start=2023-11-22&p_date_1=0&p_date_2=0&p_env=prod&p_session_id_1=01HFT91QV8E1Y2HXRMNJ9YYM88&p_session_id_2=0&p_session_id_3=0&p_session_id_4=0&p_session_id_5=0&p_session_id_6=0&p_session_id_7=0&p_session_id_8=0&p_subsample_percent=5&p_vdrive_version=v52.0.8&refresh=600\n"
     ]
    }
   ],
   "source": [
    "\n",
    "# p_session_id = [0,0,0,0,0,0,0,0]\n",
    "\n",
    "# for i in range(min(len(list_of_builds), len(p_session_id))):\n",
    "#     p_session_id[i] = list_of_builds[i]['session_id']\n",
    "\n",
    "# start_date = datetime.fromtimestamp(list_of_builds[0]['time']//1000).strftime('%Y-%m-%d')\n",
    "# end_date = datetime.fromtimestamp(list_of_builds[-1]['time']//1000).strftime('%Y-%m-%d')\n",
    "# release_candidate = list_of_builds[0]['branch']\n",
    "\n",
    "\n",
    "# print(\"Testbed: release testing metrics - v2\")\n",
    "# print(f\"https://redash.reeinfra.net/dashboards/96-testbed-release-testing-metrics---v2?p_date={start_date}--{end_date}&p_date.end={end_date}&p_date.start={start_date}&p_date_1=0&p_date_2=0&p_env=prod&p_session_id_1={p_session_id[0]}&p_session_id_2={p_session_id[1]}&p_session_id_3={p_session_id[2]}&p_session_id_4={p_session_id[3]}&p_session_id_5={p_session_id[4]}&p_session_id_6={p_session_id[5]}&p_session_id_7={p_session_id[6]}&p_session_id_8={p_session_id[7]}&p_subsample_percent=5&p_vdrive_version={release_candidate}&refresh=600\")"
   ]
  },
  {
   "cell_type": "code",
   "execution_count": 13,
   "metadata": {},
   "outputs": [
    {
     "ename": "TypeError",
     "evalue": "len() takes no keyword arguments",
     "output_type": "error",
     "traceback": [
      "\u001b[0;31m---------------------------------------------------------------------------\u001b[0m",
      "\u001b[0;31mTypeError\u001b[0m                                 Traceback (most recent call last)",
      "\u001b[1;32m/Users/janlack/projects/release-automation/releases/vDrive_release/testbed_perfomance/src/sign_off.ipynb Cell 13\u001b[0m line \u001b[0;36m3\n\u001b[1;32m      <a href='vscode-notebook-cell:/Users/janlack/projects/release-automation/releases/vDrive_release/testbed_perfomance/src/sign_off.ipynb#X24sZmlsZQ%3D%3D?line=0'>1</a>\u001b[0m p_session_id \u001b[39m=\u001b[39m [\u001b[39m0\u001b[39m,\u001b[39m0\u001b[39m,\u001b[39m0\u001b[39m,\u001b[39m0\u001b[39m,\u001b[39m0\u001b[39m,\u001b[39m0\u001b[39m,\u001b[39m0\u001b[39m,\u001b[39m0\u001b[39m]\n\u001b[0;32m----> <a href='vscode-notebook-cell:/Users/janlack/projects/release-automation/releases/vDrive_release/testbed_perfomance/src/sign_off.ipynb#X24sZmlsZQ%3D%3D?line=2'>3</a>\u001b[0m \u001b[39mfor\u001b[39;00m i \u001b[39min\u001b[39;00m \u001b[39mrange\u001b[39m(\u001b[39mmin\u001b[39m(\u001b[39mlen\u001b[39;49m(benchmark_session_ids \u001b[39m=\u001b[39;49m []), \u001b[39mlen\u001b[39m(p_session_id))):\n\u001b[1;32m      <a href='vscode-notebook-cell:/Users/janlack/projects/release-automation/releases/vDrive_release/testbed_perfomance/src/sign_off.ipynb#X24sZmlsZQ%3D%3D?line=3'>4</a>\u001b[0m     p_session_id[i] \u001b[39m=\u001b[39m benchmark_session_ids[i]\n\u001b[1;32m      <a href='vscode-notebook-cell:/Users/janlack/projects/release-automation/releases/vDrive_release/testbed_perfomance/src/sign_off.ipynb#X24sZmlsZQ%3D%3D?line=4'>5</a>\u001b[0m \u001b[39mprint\u001b[39m(\u001b[39m\"\u001b[39m\u001b[39mRelease Testing / Production Metrics\u001b[39m\u001b[39m\"\u001b[39m)\n",
      "\u001b[0;31mTypeError\u001b[0m: len() takes no keyword arguments"
     ]
    }
   ],
   "source": [
    "# p_session_id = [0,0,0,0,0,0,0,0]\n",
    "\n",
    "# for i in range(min(len(benchmark_session_ids = []), len(p_session_id))):\n",
    "#     p_session_id[i] = benchmark_session_ids[i]\n",
    "# print(\"Release Testing / Production Metrics\")\n",
    "# print(f\"https://redash.reeinfra.net/dashboards/61-release-testing-production-metrics?p_env=prod&p_session_id_1={p_session_id[0]}&p_session_id_2={p_session_id[1]}&p_session_id_3={p_session_id[2]}&p_session_id_4={p_session_id[3]}&p_session_id_5={p_session_id[4]}&p_session_id_6={p_session_id[5]}&p_session_id_7={p_session_id[6]}&p_session_id_8={p_session_id[7]}&p_w1652_subsample_percent=5&p_w1653_subsample_percent=5&p_w1656_subsample_percent=5\")"
   ]
  },
  {
   "cell_type": "code",
   "execution_count": null,
   "metadata": {},
   "outputs": [],
   "source": []
  }
 ],
 "metadata": {
  "kernelspec": {
   "display_name": "Python 3",
   "language": "python",
   "name": "python3"
  },
  "language_info": {
   "codemirror_mode": {
    "name": "ipython",
    "version": 3
   },
   "file_extension": ".py",
   "mimetype": "text/x-python",
   "name": "python",
   "nbconvert_exporter": "python",
   "pygments_lexer": "ipython3",
   "version": "3.11.0"
  },
  "orig_nbformat": 4
 },
 "nbformat": 4,
 "nbformat_minor": 2
}
