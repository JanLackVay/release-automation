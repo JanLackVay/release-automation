{
 "cells": [
  {
   "cell_type": "code",
   "execution_count": 1,
   "metadata": {},
   "outputs": [
    {
     "name": "stdout",
     "output_type": "stream",
     "text": [
      "Twingate is running.\n"
     ]
    }
   ],
   "source": [
    "import yaml\n",
    "import src.testbed_performance as testbed_performance\n",
    "import src.retrieve_logs as retrieve_logs\n",
    "import src.twingate_status as twingate_status\n",
    "from datetime import datetime"
   ]
  },
  {
   "cell_type": "code",
   "execution_count": null,
   "metadata": {},
   "outputs": [],
   "source": [
    "benchmark_session_ids = []"
   ]
  },
  {
   "cell_type": "code",
   "execution_count": 13,
   "metadata": {},
   "outputs": [],
   "source": [
    "jenkins_url = \"http://jenkins-ber.reeinfra.net/view/Main%20Testbed%20Queues/\"\n",
    "job_name = \"job/release-testbed-validation-gamma\"\n",
    "build_info_url = f\"{jenkins_url}{job_name}\"\n",
    "branch = None"
   ]
  },
  {
   "cell_type": "code",
   "execution_count": 3,
   "metadata": {},
   "outputs": [],
   "source": [
    "credentials = testbed_performance.get_credentials()\n",
    "last_successful_build = retrieve_logs.get_last_build_information(\"Successful\", credentials, build_info_url)\n"
   ]
  },
  {
   "cell_type": "code",
   "execution_count": 15,
   "metadata": {},
   "outputs": [
    {
     "name": "stdout",
     "output_type": "stream",
     "text": [
      "{'build': 2811, 'session_id': 'None', 'branch': 'rc52.0.4', 'time': 1700150746166, 'status': 'FAILURE'}\n",
      "{'build': 2810, 'session_id': 'None', 'branch': 'rc52.0.4', 'time': 1700139925684, 'status': 'FAILURE'}\n",
      "{'build': 2809, 'session_id': 'None', 'branch': 'rc52.0.4', 'time': 1700137130585, 'status': 'FAILURE'}\n"
     ]
    }
   ],
   "source": [
    "if branch:\n",
    "    all_builds_for_dedicated_branch = testbed_performance.get_all_branch_builds(branch, last_successful_build, credentials, build_info_url)\n",
    "    print(\"\\n\".join([str(x) for x in all_builds_for_dedicated_branch]))"
   ]
  },
  {
   "cell_type": "code",
   "execution_count": null,
   "metadata": {},
   "outputs": [],
   "source": [
    "if not twingate_status.is_twingate_running():\n",
    "    print(\"Twingate is not running. Please start it and try again.\")\n",
    "    exit(1)\n",
    "\n",
    "credentials = testbed_performance.get_credentials()\n",
    "last_successful_build = retrieve_logs.get_last_build_information(\"Successful\", credentials, build_info_url)\n",
    "console_log = retrieve_logs.get_console_logs(credentials, last_successful_build, build_info_url)\n",
    "list_of_builds = testbed_performance.get_last_3_succesfull_builds(last_successful_build, credentials, build_info_url)\n",
    "metrics_yaml = testbed_performance.get_log_yaml(console_log)\n",
    "\n",
    "#retrieve metrics and calculate averag\n",
    "all_metrics = testbed_performance.collect_metrics(list_of_builds, credentials, build_info_url)\n",
    "metrics_average = testbed_performance.get_metrics_average(all_metrics)"
   ]
  },
  {
   "cell_type": "code",
   "execution_count": null,
   "metadata": {},
   "outputs": [],
   "source": [
    "front_camera_packets = 'front camera packets per second_packets_per_second'\n",
    "\n",
    "list_of_keys_camera_bitrate = ['front camera bitrate_kbits_per_second', \n",
    "                'left camera bitrate_kbits_per_second',\n",
    "                'right camera bitrate_kbits_per_second',\n",
    "                'back camera bitrate_kbits_per_second']\n",
    "\n",
    "list_of_keys_camera_new_unit = ['front camera Mbit/s',\n",
    "                              'left camera Mbit/s',\n",
    "                              'right camera Mbit/s',\n",
    "                              'back camera Mbit/s']\n",
    "\n",
    "list_of_keys_udp_tcp_bitrate = ['ROS UDP_kbits_per_second',\n",
    "                'ROS TCP_kbits_per_second',\n",
    "                'UDP TS-VE_kbits_per_second',\n",
    "                'UDP VE-TS_kbits_per_second',\n",
    "                'TCP TS-VE_kbits_per_second',\n",
    "                'TCP VE-TS_kbits_per_second']\n",
    "\n",
    "list_of_keys_udp_tcp_new_unit = ['ROS UDP Mbit/s', \n",
    "                         'ROS TCP Mbit/s',\n",
    "                         'UDP TS-VE Mbit/s',\n",
    "                         'UDP VE-TS Mbit/s',\n",
    "                         'TCP TS-VE Mbit/s',\n",
    "                         'TCP VE-TS Mbit/s']\n",
    "print('Average of following builds:', [build['build'] for build in list_of_builds], \"on Branch:\", list_of_builds[0][\"branch\"])\n",
    "print('front camera packets/s','\\t\\t',\n",
    "      round(metrics_average[front_camera_packets]['minimum']['value']), \n",
    "      round(metrics_average[front_camera_packets]['median']['value']),\n",
    "      round(metrics_average[front_camera_packets]['max']['value']))\n",
    "\n",
    "for key in zip(list_of_keys_camera_bitrate, list_of_keys_camera_new_unit):\n",
    "      if len(key[1]) < 16:\n",
    "            tab = '\\t\\t\\t'\n",
    "      else:\n",
    "            tab = '\\t\\t'\n",
    "      print(key[1],tab,\n",
    "          round(metrics_average[key[0]]['minimum']['value']/1000,2), \n",
    "          round(metrics_average[key[0]]['median']['value']/1000,2),\n",
    "          round(metrics_average[key[0]]['max']['value']/1000,2))\n",
    "print(\"----------------------------------------\")\n",
    "print(\"UDP/TCP Bitrate\")\n",
    "for key in zip(list_of_keys_udp_tcp_bitrate, list_of_keys_udp_tcp_new_unit):\n",
    "\n",
    "      if len(key[1]) < 16:\n",
    "            tab = '\\t\\t\\t'\n",
    "      else:\n",
    "            tab = '\\t\\t'\n",
    "\n",
    "      print(key[1],tab,\n",
    "          round(metrics_average[key[0]]['minimum']['value']/1000,2), \n",
    "          round(metrics_average[key[0]]['median']['value']/1000,2),\n",
    "          round(metrics_average[key[0]]['max']['value']/1000,2))"
   ]
  },
  {
   "cell_type": "markdown",
   "metadata": {},
   "source": [
    "### ________________________________________________\n",
    "### Cells below are outdated as we don't use redash anymore\n",
    "\n",
    "* Following cells generate a links to redash dashboards for the testbed runs"
   ]
  },
  {
   "cell_type": "code",
   "execution_count": null,
   "metadata": {},
   "outputs": [],
   "source": [
    "# print(\"test bed session IDs for redash:\")\n",
    "# print(\"----------------------------------------\")\n",
    "# for build in list_of_builds:\n",
    "#     print(build['session_id'])"
   ]
  },
  {
   "cell_type": "code",
   "execution_count": null,
   "metadata": {},
   "outputs": [],
   "source": [
    "\n",
    "# p_session_id = [0,0,0,0,0,0,0,0]\n",
    "\n",
    "# for i in range(min(len(list_of_builds), len(p_session_id))):\n",
    "#     p_session_id[i] = list_of_builds[i]['session_id']\n",
    "\n",
    "# start_date = datetime.fromtimestamp(list_of_builds[0]['time']//1000).strftime('%Y-%m-%d')\n",
    "# end_date = datetime.fromtimestamp(list_of_builds[-1]['time']//1000).strftime('%Y-%m-%d')\n",
    "# release_candidate = list_of_builds[0]['branch']\n",
    "\n",
    "\n",
    "# print(\"Testbed: release testing metrics - v2\")\n",
    "# print(f\"https://redash.reeinfra.net/dashboards/96-testbed-release-testing-metrics---v2?p_date={start_date}--{end_date}&p_date.end={end_date}&p_date.start={start_date}&p_date_1=0&p_date_2=0&p_env=prod&p_session_id_1={p_session_id[0]}&p_session_id_2={p_session_id[1]}&p_session_id_3={p_session_id[2]}&p_session_id_4={p_session_id[3]}&p_session_id_5={p_session_id[4]}&p_session_id_6={p_session_id[5]}&p_session_id_7={p_session_id[6]}&p_session_id_8={p_session_id[7]}&p_subsample_percent=5&p_vdrive_version={release_candidate}&refresh=600\")"
   ]
  },
  {
   "cell_type": "code",
   "execution_count": null,
   "metadata": {},
   "outputs": [],
   "source": [
    "# p_session_id = [0,0,0,0,0,0,0,0]\n",
    "\n",
    "# for i in range(min(len(benchmark_session_ids = []), len(p_session_id))):\n",
    "#     p_session_id[i] = benchmark_session_ids[i]\n",
    "# print(\"Release Testing / Production Metrics\")\n",
    "# print(f\"https://redash.reeinfra.net/dashboards/61-release-testing-production-metrics?p_env=prod&p_session_id_1={p_session_id[0]}&p_session_id_2={p_session_id[1]}&p_session_id_3={p_session_id[2]}&p_session_id_4={p_session_id[3]}&p_session_id_5={p_session_id[4]}&p_session_id_6={p_session_id[5]}&p_session_id_7={p_session_id[6]}&p_session_id_8={p_session_id[7]}&p_w1652_subsample_percent=5&p_w1653_subsample_percent=5&p_w1656_subsample_percent=5\")"
   ]
  },
  {
   "cell_type": "code",
   "execution_count": null,
   "metadata": {},
   "outputs": [],
   "source": []
  }
 ],
 "metadata": {
  "kernelspec": {
   "display_name": "Python 3",
   "language": "python",
   "name": "python3"
  },
  "language_info": {
   "codemirror_mode": {
    "name": "ipython",
    "version": 3
   },
   "file_extension": ".py",
   "mimetype": "text/x-python",
   "name": "python",
   "nbconvert_exporter": "python",
   "pygments_lexer": "ipython3",
   "version": "3.11.0"
  },
  "orig_nbformat": 4
 },
 "nbformat": 4,
 "nbformat_minor": 2
}
