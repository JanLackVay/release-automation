{
 "cells": [
  {
   "cell_type": "code",
   "execution_count": 1,
   "metadata": {},
   "outputs": [
    {
     "name": "stdout",
     "output_type": "stream",
     "text": [
      "Twingate is running.\n"
     ]
    }
   ],
   "source": [
    "import yaml\n",
    "import src.testbed_performance as testbed_performance\n",
    "import src.retrieve_logs as retrieve_logs\n",
    "import src.twingate_status as twingate_status\n",
    "from datetime import datetime\n",
    "import os \n",
    "import yaml\n",
    "import pathlib\n",
    "import src.yaml_loader as yaml_loader"
   ]
  },
  {
   "cell_type": "code",
   "execution_count": null,
   "metadata": {},
   "outputs": [],
   "source": [
    "benchmark_session_ids = []"
   ]
  },
  {
   "cell_type": "code",
   "execution_count": 9,
   "metadata": {},
   "outputs": [],
   "source": [
    "jenkins_url = \"http://jenkins-ber.reeinfra.net/view/Main%20Testbed%20Queues/\"\n",
    "job_name = \"job/release-testbed-validation-gamma\"\n",
    "build_info_url = f\"{jenkins_url}{job_name}\"\n",
    "branch = \"rc59.0.6\""
   ]
  },
  {
   "cell_type": "code",
   "execution_count": 3,
   "metadata": {},
   "outputs": [],
   "source": [
    "current_dir = os.getcwd()\n",
    "credentials = yaml_loader.load_yaml(pathlib.Path(f\"{current_dir}/../credentials/credentials.yaml\").open().read())\n",
    "last_successful_build = retrieve_logs.get_last_build_information(\"Successful\", credentials, build_info_url)\n"
   ]
  },
  {
   "cell_type": "code",
   "execution_count": 4,
   "metadata": {},
   "outputs": [
    {
     "data": {
      "text/plain": [
       "3497"
      ]
     },
     "execution_count": 4,
     "metadata": {},
     "output_type": "execute_result"
    }
   ],
   "source": [
    "last_successful_build"
   ]
  },
  {
   "cell_type": "code",
   "execution_count": 10,
   "metadata": {},
   "outputs": [
    {
     "name": "stdout",
     "output_type": "stream",
     "text": [
      "Error: Couldn't retrieve any information.\n"
     ]
    },
    {
     "ename": "KeyError",
     "evalue": "'branch'",
     "output_type": "error",
     "traceback": [
      "\u001b[0;31m---------------------------------------------------------------------------\u001b[0m",
      "\u001b[0;31mKeyError\u001b[0m                                  Traceback (most recent call last)",
      "Cell \u001b[0;32mIn[10], line 2\u001b[0m\n\u001b[1;32m      1\u001b[0m \u001b[38;5;28;01mif\u001b[39;00m branch:\n\u001b[0;32m----> 2\u001b[0m     all_builds_for_dedicated_branch \u001b[38;5;241m=\u001b[39m \u001b[43mtestbed_performance\u001b[49m\u001b[38;5;241;43m.\u001b[39;49m\u001b[43mget_all_branch_builds\u001b[49m\u001b[43m(\u001b[49m\u001b[43mbranch\u001b[49m\u001b[43m,\u001b[49m\u001b[43m \u001b[49m\u001b[43mlast_successful_build\u001b[49m\u001b[43m,\u001b[49m\u001b[43m \u001b[49m\u001b[43mcredentials\u001b[49m\u001b[43m,\u001b[49m\u001b[43m \u001b[49m\u001b[43mbuild_info_url\u001b[49m\u001b[43m)\u001b[49m\n\u001b[1;32m      3\u001b[0m     \u001b[38;5;28mprint\u001b[39m(\u001b[38;5;124m\"\u001b[39m\u001b[38;5;130;01m\\n\u001b[39;00m\u001b[38;5;124m\"\u001b[39m\u001b[38;5;241m.\u001b[39mjoin([\u001b[38;5;28mstr\u001b[39m(x) \u001b[38;5;28;01mfor\u001b[39;00m x \u001b[38;5;129;01min\u001b[39;00m all_builds_for_dedicated_branch]))\n",
      "File \u001b[0;32m~/projects/release-automation/jenkins/src/testbed_performance.py:165\u001b[0m, in \u001b[0;36mget_all_branch_builds\u001b[0;34m(branch, last_successful_build, credentials, build_info_url)\u001b[0m\n\u001b[1;32m    163\u001b[0m build_list \u001b[38;5;241m=\u001b[39m []\n\u001b[1;32m    164\u001b[0m build_number \u001b[38;5;241m=\u001b[39m last_successful_build\n\u001b[0;32m--> 165\u001b[0m current_branch \u001b[38;5;241m=\u001b[39m \u001b[43mretrieve_logs\u001b[49m\u001b[38;5;241;43m.\u001b[39;49m\u001b[43mget_session_information\u001b[49m\u001b[43m(\u001b[49m\n\u001b[1;32m    166\u001b[0m \u001b[43m    \u001b[49m\u001b[43mlast_successful_build\u001b[49m\u001b[43m,\u001b[49m\u001b[43m \u001b[49m\u001b[43mcredentials\u001b[49m\u001b[43m,\u001b[49m\u001b[43m \u001b[49m\u001b[43mbuild_info_url\u001b[49m\n\u001b[1;32m    167\u001b[0m \u001b[43m\u001b[49m\u001b[43m)\u001b[49m\u001b[43m[\u001b[49m\u001b[38;5;124;43m\"\u001b[39;49m\u001b[38;5;124;43mbranch\u001b[39;49m\u001b[38;5;124;43m\"\u001b[39;49m\u001b[43m]\u001b[49m\n\u001b[1;32m    169\u001b[0m \u001b[38;5;28;01mwhile\u001b[39;00m \u001b[38;5;28;01mTrue\u001b[39;00m:\n\u001b[1;32m    170\u001b[0m     \u001b[38;5;28;01mif\u001b[39;00m current_branch \u001b[38;5;241m==\u001b[39m branch:\n",
      "\u001b[0;31mKeyError\u001b[0m: 'branch'"
     ]
    }
   ],
   "source": [
    "if branch:\n",
    "    all_builds_for_dedicated_branch = testbed_performance.get_all_branch_builds(branch, last_successful_build, credentials, build_info_url)\n",
    "    print(\"\\n\".join([str(x) for x in all_builds_for_dedicated_branch]))"
   ]
  },
  {
   "cell_type": "code",
   "execution_count": 11,
   "metadata": {},
   "outputs": [
    {
     "data": {
      "text/plain": [
       "3497"
      ]
     },
     "execution_count": 11,
     "metadata": {},
     "output_type": "execute_result"
    }
   ],
   "source": [
    "retrieve_logs.get_last_build_information(\"Successful\", credentials, build_info_url)"
   ]
  },
  {
   "cell_type": "code",
   "execution_count": 18,
   "metadata": {},
   "outputs": [],
   "source": [
    "auth=(credentials[\"username\"], credentials[\"credentials\"])"
   ]
  },
  {
   "cell_type": "code",
   "execution_count": 19,
   "metadata": {},
   "outputs": [
    {
     "ename": "TypeError",
     "evalue": "'int' object is not subscriptable",
     "output_type": "error",
     "traceback": [
      "\u001b[0;31m---------------------------------------------------------------------------\u001b[0m",
      "\u001b[0;31mTypeError\u001b[0m                                 Traceback (most recent call last)",
      "Cell \u001b[0;32mIn[19], line 1\u001b[0m\n\u001b[0;32m----> 1\u001b[0m \u001b[43mretrieve_logs\u001b[49m\u001b[38;5;241;43m.\u001b[39;49m\u001b[43mget_session_information\u001b[49m\u001b[43m(\u001b[49m\u001b[43mcredentials\u001b[49m\u001b[43m,\u001b[49m\u001b[43m \u001b[49m\u001b[38;5;241;43m3497\u001b[39;49m\u001b[43m,\u001b[49m\u001b[43m \u001b[49m\u001b[43mbuild_info_url\u001b[49m\u001b[43m)\u001b[49m\n",
      "File \u001b[0;32m~/projects/release-automation/jenkins/src/retrieve_logs.py:38\u001b[0m, in \u001b[0;36mget_session_information\u001b[0;34m(build_number, credentials, build_info_url)\u001b[0m\n\u001b[1;32m     33\u001b[0m \u001b[38;5;28;01mdef\u001b[39;00m \u001b[38;5;21mget_session_information\u001b[39m(\n\u001b[1;32m     34\u001b[0m     build_number: \u001b[38;5;28mint\u001b[39m, credentials: Dict[\u001b[38;5;28mstr\u001b[39m, \u001b[38;5;28mstr\u001b[39m], build_info_url: \u001b[38;5;28mstr\u001b[39m\n\u001b[1;32m     35\u001b[0m ) \u001b[38;5;241m-\u001b[39m\u001b[38;5;241m>\u001b[39m \u001b[38;5;28mbool\u001b[39m:\n\u001b[1;32m     36\u001b[0m     console_log \u001b[38;5;241m=\u001b[39m requests\u001b[38;5;241m.\u001b[39mget(\n\u001b[1;32m     37\u001b[0m         \u001b[38;5;124mf\u001b[39m\u001b[38;5;124m\"\u001b[39m\u001b[38;5;132;01m{\u001b[39;00mbuild_info_url\u001b[38;5;132;01m}\u001b[39;00m\u001b[38;5;124m/\u001b[39m\u001b[38;5;132;01m{\u001b[39;00mbuild_number\u001b[38;5;132;01m}\u001b[39;00m\u001b[38;5;124m/api/json\u001b[39m\u001b[38;5;124m\"\u001b[39m,\n\u001b[0;32m---> 38\u001b[0m         auth\u001b[38;5;241m=\u001b[39m(\u001b[43mcredentials\u001b[49m\u001b[43m[\u001b[49m\u001b[38;5;124;43m\"\u001b[39;49m\u001b[38;5;124;43musername\u001b[39;49m\u001b[38;5;124;43m\"\u001b[39;49m\u001b[43m]\u001b[49m, credentials[\u001b[38;5;124m\"\u001b[39m\u001b[38;5;124mcredentials\u001b[39m\u001b[38;5;124m\"\u001b[39m]),\n\u001b[1;32m     39\u001b[0m     )\n\u001b[1;32m     40\u001b[0m     result \u001b[38;5;241m=\u001b[39m console_log\u001b[38;5;241m.\u001b[39mjson()[\u001b[38;5;124m\"\u001b[39m\u001b[38;5;124mresult\u001b[39m\u001b[38;5;124m\"\u001b[39m]\n\u001b[1;32m     41\u001b[0m     \u001b[38;5;28;01mif\u001b[39;00m result \u001b[38;5;241m==\u001b[39m \u001b[38;5;124m\"\u001b[39m\u001b[38;5;124mABORTED\u001b[39m\u001b[38;5;124m\"\u001b[39m:\n",
      "\u001b[0;31mTypeError\u001b[0m: 'int' object is not subscriptable"
     ]
    }
   ],
   "source": [
    "retrieve_logs.get_session_information(credentials, 3497, build_info_url)"
   ]
  },
  {
   "cell_type": "code",
   "execution_count": null,
   "metadata": {},
   "outputs": [],
   "source": [
    "import requests\n",
    "jenkins_url = \"http://jenkins-ber.reeinfra.net/view/Main%20Testbed%20Queues/\"\n",
    "job_name = \"job/release-testbed-validation-gamma\"\n",
    "build_info_url = f\"{jenkins_url}{job_name}\"\n",
    "\n",
    "console_log = requests.get(f\"{build_info_url}/3497/api/json\",\n",
    "            auth=(credentials[\"username\"], credentials[\"credentials\"]))   \n",
    "result = console_log.json()[\"result\"]"
   ]
  },
  {
   "cell_type": "code",
   "execution_count": 8,
   "metadata": {},
   "outputs": [
    {
     "name": "stdout",
     "output_type": "stream",
     "text": [
      "Error: Couldn't retrieve any information.\n"
     ]
    },
    {
     "ename": "KeyError",
     "evalue": "'branch'",
     "output_type": "error",
     "traceback": [
      "\u001b[0;31m---------------------------------------------------------------------------\u001b[0m",
      "\u001b[0;31mKeyError\u001b[0m                                  Traceback (most recent call last)",
      "Cell \u001b[0;32mIn[8], line 9\u001b[0m\n\u001b[1;32m      7\u001b[0m last_successful_build \u001b[38;5;241m=\u001b[39m retrieve_logs\u001b[38;5;241m.\u001b[39mget_last_build_information(\u001b[38;5;124m\"\u001b[39m\u001b[38;5;124mSuccessful\u001b[39m\u001b[38;5;124m\"\u001b[39m, credentials, build_info_url)\n\u001b[1;32m      8\u001b[0m console_log \u001b[38;5;241m=\u001b[39m retrieve_logs\u001b[38;5;241m.\u001b[39mget_console_logs(credentials, last_successful_build, build_info_url)\n\u001b[0;32m----> 9\u001b[0m list_of_builds \u001b[38;5;241m=\u001b[39m \u001b[43mtestbed_performance\u001b[49m\u001b[38;5;241;43m.\u001b[39;49m\u001b[43mget_last_3_succesfull_builds\u001b[49m\u001b[43m(\u001b[49m\u001b[43mlast_successful_build\u001b[49m\u001b[43m,\u001b[49m\u001b[43m \u001b[49m\u001b[43mcredentials\u001b[49m\u001b[43m,\u001b[49m\u001b[43m \u001b[49m\u001b[43mbuild_info_url\u001b[49m\u001b[43m)\u001b[49m\n\u001b[1;32m     10\u001b[0m metrics_yaml \u001b[38;5;241m=\u001b[39m testbed_performance\u001b[38;5;241m.\u001b[39mget_log_yaml(console_log)\n\u001b[1;32m     12\u001b[0m \u001b[38;5;66;03m#retrieve metrics and calculate averag\u001b[39;00m\n",
      "File \u001b[0;32m~/projects/release-automation/jenkins/src/testbed_performance.py:135\u001b[0m, in \u001b[0;36mget_last_3_succesfull_builds\u001b[0;34m(last_successful_build, credentials, build_info_url)\u001b[0m\n\u001b[1;32m    133\u001b[0m build_list \u001b[38;5;241m=\u001b[39m []\n\u001b[1;32m    134\u001b[0m build_number \u001b[38;5;241m=\u001b[39m last_successful_build\n\u001b[0;32m--> 135\u001b[0m last_branch \u001b[38;5;241m=\u001b[39m \u001b[43mretrieve_logs\u001b[49m\u001b[38;5;241;43m.\u001b[39;49m\u001b[43mget_session_information\u001b[49m\u001b[43m(\u001b[49m\n\u001b[1;32m    136\u001b[0m \u001b[43m    \u001b[49m\u001b[43mlast_successful_build\u001b[49m\u001b[43m,\u001b[49m\u001b[43m \u001b[49m\u001b[43mcredentials\u001b[49m\u001b[43m,\u001b[49m\u001b[43m \u001b[49m\u001b[43mbuild_info_url\u001b[49m\n\u001b[1;32m    137\u001b[0m \u001b[43m\u001b[49m\u001b[43m)\u001b[49m\u001b[43m[\u001b[49m\u001b[38;5;124;43m\"\u001b[39;49m\u001b[38;5;124;43mbranch\u001b[39;49m\u001b[38;5;124;43m\"\u001b[39;49m\u001b[43m]\u001b[49m\n\u001b[1;32m    139\u001b[0m \u001b[38;5;28;01mwhile\u001b[39;00m \u001b[38;5;28mlen\u001b[39m(build_list) \u001b[38;5;241m<\u001b[39m \u001b[38;5;241m4\u001b[39m:\n\u001b[1;32m    140\u001b[0m     log_information \u001b[38;5;241m=\u001b[39m retrieve_logs\u001b[38;5;241m.\u001b[39mget_session_information(\n\u001b[1;32m    141\u001b[0m         build_number, credentials, build_info_url\n\u001b[1;32m    142\u001b[0m     )\n",
      "\u001b[0;31mKeyError\u001b[0m: 'branch'"
     ]
    }
   ],
   "source": [
    "if not twingate_status.is_twingate_running():\n",
    "    print(\"Twingate is not running. Please start it and try again.\")\n",
    "    exit(1)\n",
    "\n",
    "credentials = yaml_loader.load_yaml(pathlib.Path(f\"../credentials/credentials.yaml\").open().read()\n",
    "    )\n",
    "last_successful_build = retrieve_logs.get_last_build_information(\"Successful\", credentials, build_info_url)\n",
    "console_log = retrieve_logs.get_console_logs(credentials, last_successful_build, build_info_url)\n",
    "list_of_builds = testbed_performance.get_last_3_succesfull_builds(last_successful_build, credentials, build_info_url)\n",
    "metrics_yaml = testbed_performance.get_log_yaml(console_log)\n",
    "\n",
    "#retrieve metrics and calculate averag\n",
    "all_metrics = testbed_performance.collect_metrics(list_of_builds, credentials, build_info_url)\n",
    "metrics_average = testbed_performance.get_metrics_average(all_metrics)"
   ]
  },
  {
   "cell_type": "code",
   "execution_count": null,
   "metadata": {},
   "outputs": [],
   "source": [
    "front_camera_packets = 'front camera packets per second_packets_per_second'\n",
    "\n",
    "list_of_keys_camera_bitrate = ['front camera bitrate_kbits_per_second', \n",
    "                'left camera bitrate_kbits_per_second',\n",
    "                'right camera bitrate_kbits_per_second',\n",
    "                'back camera bitrate_kbits_per_second']\n",
    "\n",
    "list_of_keys_camera_new_unit = ['front camera Mbit/s',\n",
    "                              'left camera Mbit/s',\n",
    "                              'right camera Mbit/s',\n",
    "                              'back camera Mbit/s']\n",
    "\n",
    "list_of_keys_udp_tcp_bitrate = ['ROS UDP_kbits_per_second',\n",
    "                'ROS TCP_kbits_per_second',\n",
    "                'UDP TS-VE_kbits_per_second',\n",
    "                'UDP VE-TS_kbits_per_second',\n",
    "                'TCP TS-VE_kbits_per_second',\n",
    "                'TCP VE-TS_kbits_per_second']\n",
    "\n",
    "list_of_keys_udp_tcp_new_unit = ['ROS UDP Mbit/s', \n",
    "                         'ROS TCP Mbit/s',\n",
    "                         'UDP TS-VE Mbit/s',\n",
    "                         'UDP VE-TS Mbit/s',\n",
    "                         'TCP TS-VE Mbit/s',\n",
    "                         'TCP VE-TS Mbit/s']\n",
    "print('Average of following builds:', [build['build'] for build in list_of_builds], \"on Branch:\", list_of_builds[0][\"branch\"])\n",
    "print('front camera packets/s','\\t\\t',\n",
    "      round(metrics_average[front_camera_packets]['minimum']['value']), \n",
    "      round(metrics_average[front_camera_packets]['median']['value']),\n",
    "      round(metrics_average[front_camera_packets]['max']['value']))\n",
    "\n",
    "for key in zip(list_of_keys_camera_bitrate, list_of_keys_camera_new_unit):\n",
    "      if len(key[1]) < 16:\n",
    "            tab = '\\t\\t\\t'\n",
    "      else:\n",
    "            tab = '\\t\\t'\n",
    "      print(key[1],tab,\n",
    "          round(metrics_average[key[0]]['minimum']['value']/1000,2), \n",
    "          round(metrics_average[key[0]]['median']['value']/1000,2),\n",
    "          round(metrics_average[key[0]]['max']['value']/1000,2))\n",
    "print(\"----------------------------------------\")\n",
    "print(\"UDP/TCP Bitrate\")\n",
    "for key in zip(list_of_keys_udp_tcp_bitrate, list_of_keys_udp_tcp_new_unit):\n",
    "\n",
    "      if len(key[1]) < 16:\n",
    "            tab = '\\t\\t\\t'\n",
    "      else:\n",
    "            tab = '\\t\\t'\n",
    "\n",
    "      print(key[1],tab,\n",
    "          round(metrics_average[key[0]]['minimum']['value']/1000,2), \n",
    "          round(metrics_average[key[0]]['median']['value']/1000,2),\n",
    "          round(metrics_average[key[0]]['max']['value']/1000,2))"
   ]
  },
  {
   "cell_type": "markdown",
   "metadata": {},
   "source": [
    "### ________________________________________________\n",
    "### Cells below are outdated as we don't use redash anymore\n",
    "\n",
    "* Following cells generate a links to redash dashboards for the testbed runs"
   ]
  },
  {
   "cell_type": "code",
   "execution_count": null,
   "metadata": {},
   "outputs": [],
   "source": [
    "# print(\"test bed session IDs for redash:\")\n",
    "# print(\"----------------------------------------\")\n",
    "# for build in list_of_builds:\n",
    "#     print(build['session_id'])"
   ]
  },
  {
   "cell_type": "code",
   "execution_count": null,
   "metadata": {},
   "outputs": [],
   "source": [
    "\n",
    "# p_session_id = [0,0,0,0,0,0,0,0]\n",
    "\n",
    "# for i in range(min(len(list_of_builds), len(p_session_id))):\n",
    "#     p_session_id[i] = list_of_builds[i]['session_id']\n",
    "\n",
    "# start_date = datetime.fromtimestamp(list_of_builds[0]['time']//1000).strftime('%Y-%m-%d')\n",
    "# end_date = datetime.fromtimestamp(list_of_builds[-1]['time']//1000).strftime('%Y-%m-%d')\n",
    "# release_candidate = list_of_builds[0]['branch']\n",
    "\n",
    "\n",
    "# print(\"Testbed: release testing metrics - v2\")\n",
    "# print(f\"https://redash.reeinfra.net/dashboards/96-testbed-release-testing-metrics---v2?p_date={start_date}--{end_date}&p_date.end={end_date}&p_date.start={start_date}&p_date_1=0&p_date_2=0&p_env=prod&p_session_id_1={p_session_id[0]}&p_session_id_2={p_session_id[1]}&p_session_id_3={p_session_id[2]}&p_session_id_4={p_session_id[3]}&p_session_id_5={p_session_id[4]}&p_session_id_6={p_session_id[5]}&p_session_id_7={p_session_id[6]}&p_session_id_8={p_session_id[7]}&p_subsample_percent=5&p_vdrive_version={release_candidate}&refresh=600\")"
   ]
  },
  {
   "cell_type": "code",
   "execution_count": null,
   "metadata": {},
   "outputs": [],
   "source": [
    "# p_session_id = [0,0,0,0,0,0,0,0]\n",
    "\n",
    "# for i in range(min(len(benchmark_session_ids = []), len(p_session_id))):\n",
    "#     p_session_id[i] = benchmark_session_ids[i]\n",
    "# print(\"Release Testing / Production Metrics\")\n",
    "# print(f\"https://redash.reeinfra.net/dashboards/61-release-testing-production-metrics?p_env=prod&p_session_id_1={p_session_id[0]}&p_session_id_2={p_session_id[1]}&p_session_id_3={p_session_id[2]}&p_session_id_4={p_session_id[3]}&p_session_id_5={p_session_id[4]}&p_session_id_6={p_session_id[5]}&p_session_id_7={p_session_id[6]}&p_session_id_8={p_session_id[7]}&p_w1652_subsample_percent=5&p_w1653_subsample_percent=5&p_w1656_subsample_percent=5\")"
   ]
  },
  {
   "cell_type": "code",
   "execution_count": null,
   "metadata": {},
   "outputs": [],
   "source": []
  }
 ],
 "metadata": {
  "kernelspec": {
   "display_name": "Python 3",
   "language": "python",
   "name": "python3"
  },
  "language_info": {
   "codemirror_mode": {
    "name": "ipython",
    "version": 3
   },
   "file_extension": ".py",
   "mimetype": "text/x-python",
   "name": "python",
   "nbconvert_exporter": "python",
   "pygments_lexer": "ipython3",
   "version": "3.11.0"
  },
  "orig_nbformat": 4
 },
 "nbformat": 4,
 "nbformat_minor": 2
}
