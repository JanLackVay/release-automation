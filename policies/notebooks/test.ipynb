{
 "cells": [
  {
   "cell_type": "code",
   "execution_count": 1,
   "metadata": {},
   "outputs": [],
   "source": [
    "import snowflake.connector\n",
    "import yaml\n",
    "import src.policy_helper as policy_helper\n",
    "import time"
   ]
  },
  {
   "cell_type": "code",
   "execution_count": 2,
   "metadata": {},
   "outputs": [],
   "source": [
    "query_config = yaml.safe_load(open('../config.yaml', 'r'))\n"
   ]
  },
  {
   "cell_type": "code",
   "execution_count": 3,
   "metadata": {},
   "outputs": [],
   "source": [
    "release_config = yaml.safe_load(open('../expected_config.yaml', 'r'))"
   ]
  },
  {
   "cell_type": "code",
   "execution_count": 4,
   "metadata": {},
   "outputs": [
    {
     "name": "stdout",
     "output_type": "stream",
     "text": [
      "Initiating login request with your identity provider. A browser window should have opened for you to complete the login. If you can't see it, check existing browser windows, or your OS settings. Press CTRL+C to abort and try again...\n",
      "Going to open: https://accounts.google.com/o/saml2/idp?idpid=C01dz3puk&SAMLRequest=nZJNb%2BIwEIb%2FSuQ9J3ZCpAaLgFhQtZG6CwtppfZmkoF6cezUH6Tw69fhQ%2Boe2sMeLFn2O%2FPMzDujyXsjggNow5XMURwRFICsVM3lLkeP5X2YocBYJmsmlIQcHcGgyXhkWCNaOnX2Va7gzYGxgU8kDe0%2FcuS0pIoZbqhkDRhqK7qe%2FnygSUQoMwa09Th0DakN96xXa1uKcdd1UTeIlN7hhBCCyRB7VS%2F5hj4g2q8ZrVZWVUrcQt59T58gYkzSHuEVnrC8Bn7n8jKCryibi8jQH2W5DJeLdYmC6a27mZLGNaDXoA%2B8gsfVw6UA4ytYlMNhliQRuLACaTUTYRwZqbqtYHuoVNM66xNH%2Foa3UGOhdtyPq5jnqN3zulhbkhm4e8uGjSsPi3RVxU9%2FFqnlcXE8HZtnUOR0Wmx%2Bb9IKBU83c5Pe3MIYB4XsLbX%2BiSSDME7COC3JkMYpTbPoLhu8oGDuLeWS2XPkrW5WVcpJa6KdUjsB5%2FoU7v1IMK%2FbiT%2B8zmckrk%2BD1u3RZU%2FomanH%2F9H9CH9McN26X96IYr5UglfH4F7phtnPfYqj%2BPzC63B7llJoGBfTutZgjPdLCNXNNDDrl9tqBwiPL9R%2F13v8Fw%3D%3D&RelayState=58641 to authenticate...\n"
     ]
    }
   ],
   "source": [
    "con = snowflake.connector.connect(\n",
    "    user=query_config['user'],\n",
    "    authenticator=query_config['authenticator'],\n",
    "    account=query_config['account'],\n",
    "    warehouse=query_config['warehouse'],\n",
    "    database=query_config['database'],\n",
    "    session_parameters={\n",
    "        'QUERY_TAG': 'Get ODD ID by name'\n",
    "    }\n",
    ")"
   ]
  },
  {
   "cell_type": "code",
   "execution_count": 5,
   "metadata": {},
   "outputs": [
    {
     "data": {
      "text/plain": [
       "<snowflake.connector.connection.SnowflakeConnection at 0x10a7bef10>"
      ]
     },
     "execution_count": 5,
     "metadata": {},
     "output_type": "execute_result"
    }
   ],
   "source": [
    "con"
   ]
  },
  {
   "cell_type": "code",
   "execution_count": 46,
   "metadata": {},
   "outputs": [],
   "source": [
    "vehicle_query = \"\"\"\n",
    "select\n",
    "  TO_CHAR(_ingested_at, 'YYYY-MM-DD HH24:MI') AS \"Session started UTC\"\n",
    "  , vehicle:name as \"name\"\n",
    "  , concat(vehicle:depb_left_version:major, '.', vehicle:depb_left_version:minor, '.', vehicle:depb_left_version:patch) as \"DEPB left\"\n",
    "  , concat(vehicle:depb_right_version:major, '.', vehicle:depb_right_version:minor, '.', vehicle:depb_right_version:patch) as \"DEPB right\"\n",
    "  , concat(vehicle:software_version:sem_ver_tag:major, '.', vehicle:software_version:sem_ver_tag:minor, '.', vehicle:software_version:sem_ver_tag:patch) as \"Vehicle vDrive\"\n",
    "  , concat(vehicle:reecu:mcu_fw_version:major, '.', vehicle:reecu:mcu_fw_version:minor, '.', vehicle:reecu:mcu_fw_version:patch) as \"Vehicle REECU\"\n",
    "  , concat(vehicle:reecu:sec_fpga_gw_version:major, '.', vehicle:reecu:sec_fpga_gw_version:minor, '.', vehicle:reecu:sec_fpga_gw_version:patch) as \"Vehicle SEC\"\n",
    "from raw_driving.session_init\n",
    "where true\n",
    "  and vehicle:name LIKE any ('ve-0%', 've-us-%')\n",
    "  and _ingested_at >= CURRENT_DATE() - INTERVAL '30 DAY'\n",
    "  and concat(vehicle:depb_right_version:major, '.', vehicle:depb_right_version:minor, '.', vehicle:depb_right_version:patch) is NOT NULL\n",
    "  and concat(vehicle:reecu:mcu_fw_version:major, '.', vehicle:reecu:mcu_fw_version:minor, '.', vehicle:reecu:mcu_fw_version:patch) is NOT NULL\n",
    "  and concat(vehicle:software_version:sem_ver_tag:major, '.', vehicle:software_version:sem_ver_tag:minor, '.', vehicle:software_version:sem_ver_tag:patch) is NOT NULL\n",
    "  and concat(vehicle:reecu:sec_fpga_gw_version:major, '.', vehicle:reecu:sec_fpga_gw_version:minor, '.', vehicle:reecu:sec_fpga_gw_version:patch) is NOT NULL\n",
    "  QUALIFY \n",
    "  ROW_NUMBER() OVER (PARTITION BY vehicle:name ORDER BY _ingested_at DESC) = 1\n",
    "  ORDER BY vehicle:name ASC\n",
    "LIMIT 50\n",
    "\"\"\"\n",
    "\n",
    "telestaion_query = \"\"\"\n",
    "select\n",
    "  TO_CHAR(_ingested_at, 'YYYY-MM-DD HH24:MI') AS \"Session started UTC\"\n",
    "  , telestation:name as \"name\"\n",
    "  , concat(telestation:software_version:sem_ver_tag:major, '.', telestation:software_version:sem_ver_tag:minor, '.', telestation:software_version:sem_ver_tag:patch) as \"Telestation vDrive\"\n",
    "  , concat(telestation:reecu:mcu_fw_version:major, '.', telestation:reecu:mcu_fw_version:minor, '.', telestation:reecu:mcu_fw_version:patch) as \"Telestation REECU\"\n",
    "  , concat(telestation:reecu:sec_fpga_gw_version:major, '.', telestation:reecu:sec_fpga_gw_version:minor, '.', telestation:reecu:sec_fpga_gw_version:patch) as \"Telestation SEC\"\n",
    "from raw_driving.session_init\n",
    "where true\n",
    "  and telestation:name LIKE any ('ts-ber-0%', 'ts-las-0%', 'ts-gd%', 'ts-ham-0%')\n",
    "  and _ingested_at >= CURRENT_DATE() - INTERVAL '30 DAY'\n",
    "  and concat(telestation:reecu:mcu_fw_version:major, '.', telestation:reecu:mcu_fw_version:minor, '.', telestation:reecu:mcu_fw_version:patch) is NOT NULL\n",
    "  and concat(telestation:software_version:sem_ver_tag:major, '.', telestation:software_version:sem_ver_tag:minor, '.', telestation:software_version:sem_ver_tag:patch) is NOT NULL\n",
    "  and concat(telestation:reecu:sec_fpga_gw_version:major, '.', telestation:reecu:sec_fpga_gw_version:minor, '.', telestation:reecu:sec_fpga_gw_version:patch) is NOT NULL\n",
    "  QUALIFY \n",
    "  ROW_NUMBER() OVER (PARTITION BY telestation:name ORDER BY _ingested_at DESC) = 1\n",
    "  ORDER BY vehicle:name ASC\n",
    "LIMIT 50\n",
    "\"\"\"\n"
   ]
  },
  {
   "cell_type": "code",
   "execution_count": 47,
   "metadata": {},
   "outputs": [],
   "source": [
    "vehicle_output = con.cursor().execute(vehicle_query).fetchall()"
   ]
  },
  {
   "cell_type": "code",
   "execution_count": 48,
   "metadata": {},
   "outputs": [],
   "source": [
    "telestation_output = con.cursor().execute(telestaion_query).fetchall()"
   ]
  },
  {
   "cell_type": "code",
   "execution_count": 23,
   "metadata": {},
   "outputs": [],
   "source": [
    "vehicle_configuration = {}\n",
    "\n",
    "for vehicle in vehicle_output:\n",
    "    vehicle_configuration[vehicle[1].replace('\"', '')] = {\n",
    "        'depb_right': vehicle[2],\n",
    "        'depb_left': vehicle[3],\n",
    "        'vehicle_vdrive': vehicle[4],\n",
    "        'vehicle_reecu': vehicle[5],\n",
    "        'vehicle_sec': vehicle[6],\n",
    "        'date': vehicle[0]\n",
    "    }\n",
    "\n",
    "telestation_configuration = {}\n",
    "for telestation in telestation_output:\n",
    "    telestation_configuration[telestation[1].replace('\"', '')] = {\n",
    "        'telestation_vdrive': telestation[2],\n",
    "        'telestation_reecu': telestation[3],\n",
    "        'telestation_sec': telestation[4]\n",
    "    }\n"
   ]
  },
  {
   "cell_type": "code",
   "execution_count": 49,
   "metadata": {},
   "outputs": [
    {
     "name": "stdout",
     "output_type": "stream",
     "text": [
      "Mismatched Vehicles:\n",
      "{'2.9.0': [{'name': 've-0008', 'params': {'vehicle_vdrive': '53.0.3', 'vehicle_reecu': '8.1.39761'}}, {'name': 've-0009', 'params': {'vehicle_vdrive': '53.0.3', 'vehicle_reecu': '8.1.23786'}}, {'name': 've-0011', 'params': {'vehicle_vdrive': '54.0.3', 'vehicle_reecu': '8.1.2'}}, {'name': 've-0014', 'params': {'vehicle_vdrive': '53.0.3', 'vehicle_reecu': '0.0.0', 'vehicle_sec': '0.0.0', 'depb_left': '2.1.1'}}, {'name': 've-0015', 'params': {'vehicle_reecu': '8.0.1'}}, {'name': 've-0020', 'params': {'vehicle_vdrive': '53.0.3', 'vehicle_reecu': '8.1.15620', 'depb_left': '0.0.0'}}, {'name': 've-us-0001', 'params': {'vehicle_vdrive': '53.0.5', 'vehicle_reecu': '8.1.2'}}, {'name': 've-us-0002', 'params': {'vehicle_vdrive': '53.0.5', 'vehicle_reecu': '8.1.2'}}], '2.10.2': [{'name': 've-0008', 'params': {'vehicle_vdrive': '53.0.3', 'vehicle_reecu': '8.1.39761'}}, {'name': 've-0009', 'params': {'vehicle_vdrive': '53.0.3', 'vehicle_reecu': '8.1.23786'}}, {'name': 've-0011', 'params': {'vehicle_vdrive': '54.0.3'}}, {'name': 've-0014', 'params': {'vehicle_vdrive': '53.0.3', 'vehicle_reecu': '0.0.0', 'vehicle_sec': '0.0.0', 'depb_left': '2.1.1'}}, {'name': 've-0015', 'params': {'vehicle_vdrive': '52.0.13', 'vehicle_reecu': '8.0.1'}}, {'name': 've-0020', 'params': {'vehicle_vdrive': '53.0.3', 'vehicle_reecu': '8.1.15620', 'depb_left': '0.0.0'}}, {'name': 've-us-0001', 'params': {'vehicle_vdrive': '53.0.5'}}, {'name': 've-us-0002', 'params': {'vehicle_vdrive': '53.0.5'}}]}\n",
      "Matched Vehicles:\n",
      "{'2.9.0': ['ve-us-0003', 've-us-0005'], '2.10.2': ['ve-0010', 've-0012']}\n"
     ]
    }
   ],
   "source": [
    "mismatched_vehicles = {}\n",
    "matched_vehicles = {}\n",
    "vsr_keys = [\"vdrive\", \"reecu\", \"vehicle_sec\", \"depb\"]\n",
    "vehicle_keys = [\"vehicle_vdrive\", \"vehicle_reecu\", \"vehicle_sec\", \"depb_left\"]\n",
    "for vsr_config in release_config:\n",
    "    mismatched_vehicles[vsr_config[\"VSR\"]] = []\n",
    "    matched_vehicles[vsr_config[\"VSR\"]] = []\n",
    "for vehicle_name, vehicle_params in vehicle_configuration.items():\n",
    "    match_found = False\n",
    "    for vsr_config in release_config:\n",
    "        if (\n",
    "            vehicle_params['vehicle_sec'] == vsr_config['vehicle_sec'] and\n",
    "            vehicle_params['vehicle_vdrive'] == vsr_config['vdrive'] and\n",
    "            vehicle_params['vehicle_reecu'] == vsr_config['reecu'] and\n",
    "            vehicle_params['depb_left'] == vsr_config['depb']\n",
    "        ):\n",
    "            match_found = True\n",
    "            matched_vehicles[vsr_config[\"VSR\"]].append(vehicle_name)\n",
    "            break\n",
    "    if match_found == False:\n",
    "        for vsr_config in release_config:\n",
    "            mismatched_vehicles[vsr_config[\"VSR\"]].append({\n",
    "                'name': vehicle_name,\n",
    "                'params': {vehicle_key: vehicle_params[vehicle_key] for vsr_key, vehicle_key in zip(vsr_keys, vehicle_keys) if vehicle_params[vehicle_key] != vsr_config[vsr_key]}\n",
    "            })\n",
    "\n",
    "print(\"Mismatched Vehicles:\")\n",
    "print(mismatched_vehicles)\n",
    "print(\"Matched Vehicles:\")\n",
    "print(matched_vehicles)"
   ]
  },
  {
   "cell_type": "code",
   "execution_count": 50,
   "metadata": {},
   "outputs": [
    {
     "name": "stdout",
     "output_type": "stream",
     "text": [
      "*2.9.0*\n",
      "ve-0008\n",
      " vehicle_vdrive 53.0.3\n",
      " vehicle_reecu 8.1.39761\n",
      "\n",
      "ve-0009\n",
      " vehicle_vdrive 53.0.3\n",
      " vehicle_reecu 8.1.23786\n",
      "\n",
      "ve-0011\n",
      " vehicle_vdrive 54.0.3\n",
      " vehicle_reecu 8.1.2\n",
      "\n",
      "ve-0014\n",
      " vehicle_vdrive 53.0.3\n",
      " vehicle_reecu 0.0.0\n",
      " vehicle_sec 0.0.0\n",
      " depb_left 2.1.1\n",
      "\n",
      "ve-0015\n",
      " vehicle_reecu 8.0.1\n",
      "\n",
      "ve-0020\n",
      " vehicle_vdrive 53.0.3\n",
      " vehicle_reecu 8.1.15620\n",
      " depb_left 0.0.0\n",
      "\n",
      "ve-us-0001\n",
      " vehicle_vdrive 53.0.5\n",
      " vehicle_reecu 8.1.2\n",
      "\n",
      "ve-us-0002\n",
      " vehicle_vdrive 53.0.5\n",
      " vehicle_reecu 8.1.2\n",
      "\n",
      "*2.10.2*\n",
      "ve-0008\n",
      " vehicle_vdrive 53.0.3\n",
      " vehicle_reecu 8.1.39761\n",
      "\n",
      "ve-0009\n",
      " vehicle_vdrive 53.0.3\n",
      " vehicle_reecu 8.1.23786\n",
      "\n",
      "ve-0011\n",
      " vehicle_vdrive 54.0.3\n",
      "\n",
      "ve-0014\n",
      " vehicle_vdrive 53.0.3\n",
      " vehicle_reecu 0.0.0\n",
      " vehicle_sec 0.0.0\n",
      " depb_left 2.1.1\n",
      "\n",
      "ve-0015\n",
      " vehicle_vdrive 52.0.13\n",
      " vehicle_reecu 8.0.1\n",
      "\n",
      "ve-0020\n",
      " vehicle_vdrive 53.0.3\n",
      " vehicle_reecu 8.1.15620\n",
      " depb_left 0.0.0\n",
      "\n",
      "ve-us-0001\n",
      " vehicle_vdrive 53.0.5\n",
      "\n",
      "ve-us-0002\n",
      " vehicle_vdrive 53.0.5\n",
      "\n",
      "\n"
     ]
    }
   ],
   "source": [
    "mismatched_vehicles_string = \"\"\n",
    "for release in mismatched_vehicles:\n",
    "    mismatched_vehicles_string = mismatched_vehicles_string + \"*\" + release + \"*\" + \"\\n\"\n",
    "    for vehicle in mismatched_vehicles[release]:\n",
    "        mismatched_vehicles_string = mismatched_vehicles_string + vehicle[\"name\"] + \"\\n\"\n",
    "        for key in vehicle[\"params\"]:\n",
    "            mismatched_vehicles_string = mismatched_vehicles_string + \" \" + key + \" \" + vehicle[\"params\"][key] + \"\\n\"\n",
    "        mismatched_vehicles_string = mismatched_vehicles_string + \"\\n\"\n",
    "\n",
    "print(mismatched_vehicles_string)"
   ]
  },
  {
   "cell_type": "code",
   "execution_count": 42,
   "metadata": {},
   "outputs": [
    {
     "name": "stdout",
     "output_type": "stream",
     "text": [
      "Mismatched Telestations:\n",
      "{'2.9.0': [{'telestation_name': 'ts-ber-0009', 'params': {'telestation_vdrive': '54.0.3', 'telestation_reecu': '8.1.2'}}, {'telestation_name': 'ts-ber-0010', 'params': {'telestation_vdrive': '54.0.3'}}, {'telestation_name': 'ts-gd-ber-0001', 'params': {'telestation_vdrive': '53.0.3', 'telestation_reecu': '0.0.0', 'telestation_sec': '0.0.0'}}, {'telestation_name': 'ts-ber-0005', 'params': {'telestation_reecu': '8.0.1'}}, {'telestation_name': 'ts-ber-0013', 'params': {'telestation_vdrive': '52.0.11', 'telestation_reecu': '8.0.1'}}, {'telestation_name': 'ts-ber-0004', 'params': {'telestation_vdrive': '50.0.11', 'telestation_reecu': '6.9.51106'}}, {'telestation_name': 'ts-ber-0002', 'params': {'telestation_vdrive': '53.0.3', 'telestation_reecu': '8.1.2'}}, {'telestation_name': 'ts-las-0001', 'params': {'telestation_vdrive': '53.0.5', 'telestation_reecu': '8.1.2'}}, {'telestation_name': 'ts-las-0002', 'params': {'telestation_vdrive': '53.0.5', 'telestation_reecu': '8.1.2'}}], '2.10.2': [{'telestation_name': 'ts-ber-0009', 'params': {'telestation_vdrive': '54.0.3'}}, {'telestation_name': 'ts-ber-0010', 'params': {'telestation_vdrive': '54.0.3', 'telestation_reecu': '8.1.1'}}, {'telestation_name': 'ts-gd-ber-0001', 'params': {'telestation_vdrive': '53.0.3', 'telestation_reecu': '0.0.0', 'telestation_sec': '0.0.0'}}, {'telestation_name': 'ts-ber-0005', 'params': {'telestation_vdrive': '52.0.13', 'telestation_reecu': '8.0.1'}}, {'telestation_name': 'ts-ber-0013', 'params': {'telestation_vdrive': '52.0.11', 'telestation_reecu': '8.0.1'}}, {'telestation_name': 'ts-ber-0004', 'params': {'telestation_vdrive': '50.0.11', 'telestation_reecu': '6.9.51106'}}, {'telestation_name': 'ts-ber-0002', 'params': {'telestation_vdrive': '53.0.3'}}, {'telestation_name': 'ts-las-0001', 'params': {'telestation_vdrive': '53.0.5'}}, {'telestation_name': 'ts-las-0002', 'params': {'telestation_vdrive': '53.0.5'}}]}\n",
      "Matched Telestations:\n",
      "{'2.9.0': ['ts-las-0004', 'ts-las-0003'], '2.10.2': ['ts-ber-0006', 'ts-ber-0001']}\n"
     ]
    }
   ],
   "source": [
    "mismatched_telestations = {}\n",
    "matched_telestations = {}\n",
    "vsr_keys = [\"vdrive\", \"reecu\", \"telestation_sec\"]\n",
    "telestation_keys = [\"telestation_vdrive\", \"telestation_reecu\", \"telestation_sec\"]\n",
    "\n",
    "for vsr_config in release_config:\n",
    "    mismatched_telestations[vsr_config[\"VSR\"]] = []\n",
    "    matched_telestations[vsr_config[\"VSR\"]] = []\n",
    "    \n",
    "for telestation_name, telestation_params in telestation_configuration.items():\n",
    "    match_found = False\n",
    "    for vsr_config in release_config:\n",
    "        if (\n",
    "            telestation_params['telestation_sec'] == vsr_config['telestation_sec'] and\n",
    "            telestation_params['telestation_vdrive'] == vsr_config['vdrive'] and\n",
    "            telestation_params['telestation_reecu'] == vsr_config['reecu']\n",
    "        ):\n",
    "            match_found = True\n",
    "            matched_telestations[vsr_config[\"VSR\"]].append(telestation_name)\n",
    "            break\n",
    "    if match_found == False:\n",
    "        for vsr_config in release_config:\n",
    "            mismatched_telestations[vsr_config[\"VSR\"]].append({\n",
    "                'name': telestation_name,\n",
    "                'params': {telestation_key: telestation_params[telestation_key] for vsr_key, telestation_key in zip(vsr_keys, telestation_keys) if telestation_params[telestation_key] != vsr_config[vsr_key]}\n",
    "            })\n",
    "\n",
    "print(\"Mismatched Telestations:\")\n",
    "print(mismatched_telestations)\n",
    "print(\"Matched Telestations:\")\n",
    "print(matched_telestations)"
   ]
  },
  {
   "cell_type": "code",
   "execution_count": null,
   "metadata": {},
   "outputs": [],
   "source": [
    "def misconfiguration_string(mismatched_configuraiton: dict, ):\n",
    "    mismatched_vehicles_string = \"\"\n",
    "    for release in mismatched_configuraiton:\n",
    "        mismatched_vehicles_string = mismatched_vehicles_string + \"*\" + release + \"*\" + \"\\n\"\n",
    "        for system in mismatched_configuraiton[release]:\n",
    "            mismatched_vehicles_string = mismatched_vehicles_string + system[\"name\"] + \"\\n\"\n",
    "            for key in system[\"params\"]:\n",
    "                mismatched_vehicles_string = mismatched_vehicles_string + \" \" + key + \" \" + system[\"params\"][key] + \"\\n\"\n",
    "            mismatched_vehicles_string = mismatched_vehicles_string + \"\\n\"\n",
    "\n",
    "    return mismatched_vehicles_string"
   ]
  }
 ],
 "metadata": {
  "kernelspec": {
   "display_name": "release",
   "language": "python",
   "name": "python3"
  },
  "language_info": {
   "codemirror_mode": {
    "name": "ipython",
    "version": 3
   },
   "file_extension": ".py",
   "mimetype": "text/x-python",
   "name": "python",
   "nbconvert_exporter": "python",
   "pygments_lexer": "ipython3",
   "version": "3.11.0"
  }
 },
 "nbformat": 4,
 "nbformat_minor": 2
}
