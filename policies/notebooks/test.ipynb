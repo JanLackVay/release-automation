{
 "cells": [
  {
   "cell_type": "code",
   "execution_count": 155,
   "metadata": {},
   "outputs": [
    {
     "ename": "ModuleNotFoundError",
     "evalue": "No module named 'src.policy_helper'",
     "output_type": "error",
     "traceback": [
      "\u001b[0;31m---------------------------------------------------------------------------\u001b[0m",
      "\u001b[0;31mModuleNotFoundError\u001b[0m                       Traceback (most recent call last)",
      "Cell \u001b[0;32mIn[155], line 3\u001b[0m\n\u001b[1;32m      1\u001b[0m \u001b[38;5;28;01mimport\u001b[39;00m \u001b[38;5;21;01msnowflake\u001b[39;00m\u001b[38;5;21;01m.\u001b[39;00m\u001b[38;5;21;01mconnector\u001b[39;00m\n\u001b[1;32m      2\u001b[0m \u001b[38;5;28;01mimport\u001b[39;00m \u001b[38;5;21;01myaml\u001b[39;00m\n\u001b[0;32m----> 3\u001b[0m \u001b[38;5;28;01mimport\u001b[39;00m \u001b[38;5;21;01msrc\u001b[39;00m\u001b[38;5;21;01m.\u001b[39;00m\u001b[38;5;21;01mpolicy_helper\u001b[39;00m \u001b[38;5;28;01mas\u001b[39;00m \u001b[38;5;21;01mpolicy_helper\u001b[39;00m\n\u001b[1;32m      4\u001b[0m \u001b[38;5;28;01mimport\u001b[39;00m \u001b[38;5;21;01mtime\u001b[39;00m\n",
      "\u001b[0;31mModuleNotFoundError\u001b[0m: No module named 'src.policy_helper'"
     ]
    }
   ],
   "source": [
    "import snowflake.connector\n",
    "import yaml\n",
    "import src.policy_helper as policy_helper\n",
    "import time"
   ]
  },
  {
   "cell_type": "code",
   "execution_count": 156,
   "metadata": {},
   "outputs": [],
   "source": [
    "query_config = yaml.safe_load(open('../config.yaml', 'r'))\n"
   ]
  },
  {
   "cell_type": "code",
   "execution_count": 9,
   "metadata": {},
   "outputs": [
    {
     "data": {
      "text/plain": [
       "[{'VSR': '2.9.0',\n",
       "  'vdrive': '52.0.13',\n",
       "  'reecu': '8.1.1',\n",
       "  'vehicle_sec': '3.2.0',\n",
       "  'telestation_sec': '1.15.0',\n",
       "  'depb': '2.3.0'},\n",
       " {'VSR': '2.10.2',\n",
       "  'vdrive': '53.0.5',\n",
       "  'reecu': '8.1.2',\n",
       "  'vehicle_sec': '3.2.0',\n",
       "  'telestation_sec': '1.15.0',\n",
       "  'depb': '2.3.0'},\n",
       " {'VSR': '2.11.0',\n",
       "  'vdrive': '54.0.5',\n",
       "  'reecu': '8.1.2',\n",
       "  'vehicle_sec': '3.2.0',\n",
       "  'telestation_sec': '1.15.0',\n",
       "  'depb': '2.3.0'}]"
      ]
     },
     "execution_count": 9,
     "metadata": {},
     "output_type": "execute_result"
    }
   ],
   "source": [
    "release_config"
   ]
  },
  {
   "cell_type": "code",
   "execution_count": 157,
   "metadata": {},
   "outputs": [],
   "source": [
    "release_config = yaml.safe_load(open('../expected_config.yaml', 'r'))"
   ]
  },
  {
   "cell_type": "code",
   "execution_count": 166,
   "metadata": {},
   "outputs": [
    {
     "data": {
      "text/plain": [
       "{'user': 'jan.lack@vay.io',\n",
       " 'authenticator': 'externalbrowser',\n",
       " 'account': 'vay-vay_ee',\n",
       " 'warehouse': 'BI_XS',\n",
       " 'database': 'DWH'}"
      ]
     },
     "execution_count": 166,
     "metadata": {},
     "output_type": "execute_result"
    }
   ],
   "source": [
    "query_config"
   ]
  },
  {
   "cell_type": "code",
   "execution_count": 195,
   "metadata": {},
   "outputs": [
    {
     "name": "stdout",
     "output_type": "stream",
     "text": [
      "Initiating login request with your identity provider. A browser window should have opened for you to complete the login. If you can't see it, check existing browser windows, or your OS settings. Press CTRL+C to abort and try again...\n",
      "Going to open: https://accounts.google.com/o/saml2/idp?idpid=C01dz3puk&SAMLRequest=nZJdb9owFIb%2FSuRdJ3ZSQGAREAWhsbWUlnTadmecA1g4duaPBvrrZ0KRuov2YheRIuc5x8%2FJe4bjYyWjFzBWaJWjNCEoAsV1KdQuR8%2FFPO6jyDqmSia1ghydwKLxaGhZJWs68W6vnuCPB%2Bui0EhZ2n7IkTeKamaFpYpVYKnjdD25v6NZQmhttNNcS%2FSu5PMKZi0YFwyvJaUVQW%2FvXE0xbpomaW4SbXY4I4RgMsCBOiNfrvwxzPQBn2LSOfOBCPjqze1WqMsv%2BExrc4Es%2FVoUq3j1sC5QNLmqTrWyvgKzBvMiODw%2F3V0EbDB4KAaDfpYl4GMOyhkm4zSxSjdbyQ7AdVV7Fxon4Q1vocRS70SYfTHLUX0QZeH2dU3uORz6le%2F2l99%2BnnrfH%2F1ys2EzQh5%2Fze9fl7er5WR77HMU%2FbiGm53DXVjrYaHOkbpwRLJOTNI46xZpSrs9mvWSTkZ%2Bo2gWIhWKubby6s041145m%2By03klo%2FTQ%2B55dhUdbj8Igyn5K0fL2p%2FQFd9oS2d5rRf0w%2FxO8bvG3dMgSxmK20FPwUzbWpmPs4pzRJ2xNRxtsWpVAxISdlacDakJeUupkaYC4stzMeEB5dbv13vUd%2FAQ%3D%3D&RelayState=51076 to authenticate...\n"
     ]
    }
   ],
   "source": [
    "con = snowflake.connector.connect(\n",
    "    user=query_config['user'],\n",
    "    authenticator=query_config['authenticator'],\n",
    "    account=query_config['account'],\n",
    "    warehouse=query_config['warehouse'],\n",
    "    database=query_config['database'],\n",
    "    session_parameters={\n",
    "        'QUERY_TAG': 'Get ODD ID by name'\n",
    "    }\n",
    ")"
   ]
  },
  {
   "cell_type": "code",
   "execution_count": 179,
   "metadata": {},
   "outputs": [
    {
     "data": {
      "text/plain": [
       "<snowflake.connector.connection.SnowflakeConnection at 0x119446d10>"
      ]
     },
     "execution_count": 179,
     "metadata": {},
     "output_type": "execute_result"
    }
   ],
   "source": [
    "con"
   ]
  },
  {
   "cell_type": "code",
   "execution_count": 196,
   "metadata": {},
   "outputs": [],
   "source": [
    "release_config_query = \"\"\"\n",
    "WITH ranked_versions AS (\n",
    "  SELECT\n",
    "    vay_system_release,\n",
    "    vdrive_major_version,\n",
    "    vdrive_minor_version,\n",
    "    vdrive_patch_version,\n",
    "    depb_right_version_string,\n",
    "    vreecu_version,\n",
    "    ROW_NUMBER() OVER (PARTITION BY vay_system_release\n",
    "                       ORDER BY vdrive_patch_version ASC) AS row_num\n",
    "  FROM dwh.core_driving.sessions\n",
    "  WHERE vay_system_release IS NOT NULL AND depb_right_version_string IS NOT NULL\n",
    ")\n",
    "SELECT\n",
    "  SPLIT_PART(vay_system_release, '-', 2) as vay_system_release,\n",
    "  vdrive_major_version,\n",
    "  vdrive_minor_version,\n",
    "  vdrive_patch_version,\n",
    "  depb_right_version_string,  \n",
    "  vreecu_version\n",
    "FROM ranked_versions\n",
    "QUALIFY row_num = 1\n",
    "ORDER BY \n",
    "  CAST(SPLIT_PART(vay_system_release, '.', 1) AS INTEGER) DESC,\n",
    "  CAST(SPLIT_PART(vay_system_release, '.', 2) AS INTEGER) DESC,\n",
    "  CAST(SPLIT_PART(vay_system_release, '.', 3) AS INTEGER) DESC\n",
    "LIMIT 3;\n",
    "\n",
    "\"\"\""
   ]
  },
  {
   "cell_type": "code",
   "execution_count": 197,
   "metadata": {},
   "outputs": [],
   "source": [
    "release_configs = con.cursor().execute(release_config_query).fetchall()"
   ]
  },
  {
   "cell_type": "code",
   "execution_count": 184,
   "metadata": {},
   "outputs": [
    {
     "data": {
      "text/plain": [
       "[('2.12.0', 55, 0, 1, '2.3.0', '8.2.0'),\n",
       " ('2.11.0', 54, 0, 3, '2.3.0', '8.1.2'),\n",
       " ('2.10.0', 53, 0, 3, '2.3.0', '8.1.2')]"
      ]
     },
     "execution_count": 184,
     "metadata": {},
     "output_type": "execute_result"
    }
   ],
   "source": [
    "release_configs"
   ]
  },
  {
   "cell_type": "code",
   "execution_count": 198,
   "metadata": {},
   "outputs": [
    {
     "data": {
      "text/plain": [
       "[{'vay_system_release': '2.12.0',\n",
       "  'vdrive_major_version': 55,\n",
       "  'vdrive_minor_version': 0,\n",
       "  'vdrive_patch_version': 1,\n",
       "  'depb': '2.3.0',\n",
       "  'vreecu_version': '8.2.0'},\n",
       " {'vay_system_release': '2.11.0',\n",
       "  'vdrive_major_version': 54,\n",
       "  'vdrive_minor_version': 0,\n",
       "  'vdrive_patch_version': 3,\n",
       "  'depb': '2.3.0',\n",
       "  'vreecu_version': '8.1.2'},\n",
       " {'vay_system_release': '2.10.0',\n",
       "  'vdrive_major_version': 53,\n",
       "  'vdrive_minor_version': 0,\n",
       "  'vdrive_patch_version': 3,\n",
       "  'depb': '2.3.0',\n",
       "  'vreecu_version': '8.1.2'}]"
      ]
     },
     "execution_count": 198,
     "metadata": {},
     "output_type": "execute_result"
    }
   ],
   "source": [
    "\n",
    "release_configurations = []\n",
    "for row in release_configs:\n",
    "    release = {}\n",
    "    release['vay_system_release'] = row[0]\n",
    "    release['vdrive_major_version'] = row[1]\n",
    "    release['vdrive_minor_version'] = row[2]\n",
    "    release['vdrive_patch_version'] = row[3]\n",
    "    release['depb'] = row[4]\n",
    "    release['vreecu_version'] = row[5]\n",
    "    release_configurations.append(release)\n",
    "\n",
    "release_configurations"
   ]
  },
  {
   "cell_type": "code",
   "execution_count": 199,
   "metadata": {},
   "outputs": [],
   "source": [
    "vehicle_query = \"\"\"\n",
    "select\n",
    "  TO_CHAR(_ingested_at, 'YYYY-MM-DD HH24:MI') AS \"Session started UTC\"\n",
    "  , vehicle:name as \"name\"\n",
    "  , CAST(vehicle:software_version:sem_ver_tag:major AS INTEGER) as \"vdrive_major_version\"\n",
    "  , CAST(vehicle:software_version:sem_ver_tag:minor AS INTEGER) as \"vdrive_minor_version\"\n",
    "  , CAST(vehicle:software_version:sem_ver_tag:patch AS INTEGER) as \"vdrive_patch_version\"\n",
    "  , concat(vehicle:depb_left_version:major, '.', vehicle:depb_left_version:minor, '.', vehicle:depb_left_version:patch) as \"depb_left\"\n",
    "  , concat(vehicle:depb_right_version:major, '.', vehicle:depb_right_version:minor, '.', vehicle:depb_right_version:patch) as \"depb_right\"\n",
    "  , concat(vehicle:reecu:mcu_fw_version:major, '.', vehicle:reecu:mcu_fw_version:minor, '.', vehicle:reecu:mcu_fw_version:patch) as \"vreecu_version\"\n",
    "from dwh.raw_driving.session_init\n",
    "where true\n",
    "  and vehicle:name LIKE any ('ve-0%', 've-us-%')\n",
    "  and _ingested_at >= CURRENT_DATE() - INTERVAL '30 DAY'\n",
    "  and concat(vehicle:depb_right_version:major, '.', vehicle:depb_right_version:minor, '.', vehicle:depb_right_version:patch) is NOT NULL\n",
    "  and concat(vehicle:reecu:mcu_fw_version:major, '.', vehicle:reecu:mcu_fw_version:minor, '.', vehicle:reecu:mcu_fw_version:patch) is NOT NULL\n",
    "  and concat(vehicle:software_version:sem_ver_tag:major, '.', vehicle:software_version:sem_ver_tag:minor, '.', vehicle:software_version:sem_ver_tag:patch) is NOT NULL\n",
    "  QUALIFY \n",
    "  ROW_NUMBER() OVER (PARTITION BY vehicle:name ORDER BY _ingested_at DESC) = 1\n",
    "  ORDER BY vehicle:name ASC\n",
    "LIMIT 50\n",
    "\"\"\"\n",
    "\n",
    "telestaion_query = \"\"\"\n",
    "select\n",
    "  TO_CHAR(_ingested_at, 'YYYY-MM-DD HH24:MI') AS \"Session started UTC\"\n",
    "  , telestation:name as \"name\"\n",
    "  , cast(telestation:software_version:sem_ver_tag:major as integer) as \"vdrive_major_version\"\n",
    "  , cast(telestation:software_version:sem_ver_tag:minor as integer) as \"vdrive_minor_version\"\n",
    "  , cast(telestation:software_version:sem_ver_tag:patch as integer) as \"vdrive_patch_version\"\n",
    "  , concat(telestation:reecu:mcu_fw_version:major, '.', telestation:reecu:mcu_fw_version:minor, '.', telestation:reecu:mcu_fw_version:patch) as \"vreecu_version\"\n",
    "from dwh.raw_driving.session_init\n",
    "where true\n",
    "  and telestation:name LIKE any ('ts-ber-0%', 'ts-las-0%', 'ts-gd%', 'ts-ham-0%')\n",
    "  and _ingested_at >= CURRENT_DATE() - INTERVAL '30 DAY'\n",
    "  and concat(telestation:reecu:mcu_fw_version:major, '.', telestation:reecu:mcu_fw_version:minor, '.', telestation:reecu:mcu_fw_version:patch) is NOT NULL\n",
    "  and concat(telestation:software_version:sem_ver_tag:major, '.', telestation:software_version:sem_ver_tag:minor, '.', telestation:software_version:sem_ver_tag:patch) is NOT NULL\n",
    "  QUALIFY \n",
    "  ROW_NUMBER() OVER (PARTITION BY telestation:name ORDER BY _ingested_at DESC) = 1\n",
    "  ORDER BY vehicle:name ASC\n",
    "LIMIT 50\n",
    "\"\"\"\n"
   ]
  },
  {
   "cell_type": "code",
   "execution_count": 200,
   "metadata": {},
   "outputs": [],
   "source": [
    "vehicle_output = con.cursor().execute(vehicle_query).fetchall()"
   ]
  },
  {
   "cell_type": "code",
   "execution_count": 201,
   "metadata": {},
   "outputs": [
    {
     "data": {
      "text/plain": [
       "[('2024-01-23 13:35', '\"ve-0008\"', 55, 0, 1, '2.3.0', '2.3.0', '8.1.27559'),\n",
       " ('2024-01-23 12:32', '\"ve-0009\"', 56, 0, 0, '0.0.0', '2.3.0', '8.3.0'),\n",
       " ('2024-01-22 16:41', '\"ve-0010\"', 55, 0, 1, '0.0.0', '2.3.0', '8.2.0'),\n",
       " ('2024-01-24 13:45', '\"ve-0011\"', 56, 0, 0, '0.0.0', '2.3.0', '8.3.0'),\n",
       " ('2024-01-24 16:37', '\"ve-0012\"', 55, 0, 1, '0.0.0', '2.3.0', '8.2.0'),\n",
       " ('2024-01-09 15:18', '\"ve-0014\"', 54, 0, 7, '2.1.1', '2.1.1', '0.0.0'),\n",
       " ('2024-01-18 15:25', '\"ve-0015\"', 54, 0, 7, '0.0.0', '2.3.0', '8.1.2'),\n",
       " ('2024-01-24 11:02', '\"ve-0020\"', 55, 0, 1, '0.0.0', '2.4.0', '8.2.0'),\n",
       " ('2024-01-24 21:54', '\"ve-us-0001\"', 55, 0, 1, '0.0.0', '2.3.0', '8.2.0'),\n",
       " ('2024-01-24 23:10', '\"ve-us-0002\"', 55, 0, 1, '0.0.0', '2.3.0', '8.2.0'),\n",
       " ('2024-01-24 22:34', '\"ve-us-0003\"', 54, 0, 7, '2.3.0', '2.3.0', '8.1.2'),\n",
       " ('2024-01-18 21:51', '\"ve-us-0005\"', 54, 0, 7, '2.3.0', '2.3.0', '8.1.2'),\n",
       " ('2024-01-24 22:34', '\"ve-us-0007\"', 54, 0, 7, '2.3.0', '2.3.0', '8.1.2'),\n",
       " ('2024-01-16 18:38', '\"ve-us-0008\"', 54, 0, 7, '0.0.0', '2.3.0', '8.1.2'),\n",
       " ('2024-01-25 01:02', '\"ve-us-0009\"', 54, 0, 7, '0.0.0', '2.3.0', '8.1.2'),\n",
       " ('2024-01-23 20:43', '\"ve-us-0010\"', 54, 0, 7, '2.3.0', '2.3.0', '8.1.2'),\n",
       " ('2024-01-24 23:51', '\"ve-us-0011\"', 54, 0, 7, '2.3.0', '2.3.0', '8.1.2')]"
      ]
     },
     "execution_count": 201,
     "metadata": {},
     "output_type": "execute_result"
    }
   ],
   "source": [
    "vehicle_output"
   ]
  },
  {
   "cell_type": "code",
   "execution_count": 202,
   "metadata": {},
   "outputs": [],
   "source": [
    "telestation_output = con.cursor().execute(telestaion_query).fetchall()"
   ]
  },
  {
   "cell_type": "code",
   "execution_count": 203,
   "metadata": {},
   "outputs": [],
   "source": [
    "vehicle_configuration = {}\n",
    "\n",
    "for vehicle in vehicle_output:\n",
    "    vehicle_configuration[vehicle[1].replace('\"', '')] = {\n",
    "        'vdrive_major_version': vehicle[2],\n",
    "        'vdrive_minor_version': vehicle[3],\n",
    "        'vdrive_patch_version': vehicle[4],\n",
    "        'depb_left': vehicle[5],\n",
    "        'depb_right': vehicle[6],\n",
    "        'vreecu_version': vehicle[7],\n",
    "        'date': vehicle[0]\n",
    "    }\n",
    "\n",
    "telestation_configuration = {}\n",
    "for telestation in telestation_output:\n",
    "    telestation_configuration[telestation[1].replace('\"', '')] = {\n",
    "        'vdrive_major_version': vehicle[2],\n",
    "        'vdrive_minor_version': vehicle[3],\n",
    "        'vdrive_patch_version': vehicle[4],\n",
    "        'vreecu_version': telestation[5],\n",
    "    }\n"
   ]
  },
  {
   "cell_type": "code",
   "execution_count": 206,
   "metadata": {},
   "outputs": [
    {
     "data": {
      "text/plain": [
       "{'vdrive_major_version': 55,\n",
       " 'vdrive_minor_version': 0,\n",
       " 'vdrive_patch_version': 1,\n",
       " 'depb_left': '0.0.0',\n",
       " 'depb_right': '2.3.0',\n",
       " 'vreecu_version': '8.2.0',\n",
       " 'date': '2024-01-22 16:41'}"
      ]
     },
     "execution_count": 206,
     "metadata": {},
     "output_type": "execute_result"
    }
   ],
   "source": [
    "vehicle_configuration['ve-0010']"
   ]
  },
  {
   "cell_type": "code",
   "execution_count": 205,
   "metadata": {},
   "outputs": [
    {
     "data": {
      "text/plain": [
       "{'vay_system_release': '2.12.0',\n",
       " 'vdrive_major_version': 55,\n",
       " 'vdrive_minor_version': 0,\n",
       " 'vdrive_patch_version': 1,\n",
       " 'depb': '2.3.0',\n",
       " 'vreecu_version': '8.2.0'}"
      ]
     },
     "execution_count": 205,
     "metadata": {},
     "output_type": "execute_result"
    }
   ],
   "source": [
    "release_configurations[0]"
   ]
  },
  {
   "cell_type": "code",
   "execution_count": 217,
   "metadata": {},
   "outputs": [
    {
     "name": "stdout",
     "output_type": "stream",
     "text": [
      "Mismatched Vehicles:\n",
      "{'2.12.0': [{'name': 've-0008', 'params': {'vreecu_version': '8.1.27559'}}, {'name': 've-0009', 'params': {'vdrive_major_version': 56, 'vreecu_version': '8.3.0', 'vdrive_patch_version': 0}}, {'name': 've-0011', 'params': {'vdrive_major_version': 56, 'vreecu_version': '8.3.0', 'vdrive_patch_version': 0}}, {'name': 've-0014', 'params': {'vdrive_major_version': 54, 'vreecu_version': '0.0.0', 'depb_right': '2.1.1'}}, {'name': 've-0020', 'params': {'depb_right': '2.4.0'}}], '2.11.0': [{'name': 've-0008', 'params': {'vdrive_major_version': 55, 'vreecu_version': '8.1.27559', 'vdrive_patch_version': 1}}, {'name': 've-0009', 'params': {'vdrive_major_version': 56, 'vreecu_version': '8.3.0', 'vdrive_patch_version': 0}}, {'name': 've-0011', 'params': {'vdrive_major_version': 56, 'vreecu_version': '8.3.0', 'vdrive_patch_version': 0}}, {'name': 've-0014', 'params': {'vreecu_version': '0.0.0', 'depb_right': '2.1.1'}}, {'name': 've-0020', 'params': {'vdrive_major_version': 55, 'vreecu_version': '8.2.0', 'depb_right': '2.4.0', 'vdrive_patch_version': 1}}], '2.10.0': [{'name': 've-0008', 'params': {'vdrive_major_version': 55, 'vreecu_version': '8.1.27559', 'vdrive_patch_version': 1}}, {'name': 've-0009', 'params': {'vdrive_major_version': 56, 'vreecu_version': '8.3.0', 'vdrive_patch_version': 0}}, {'name': 've-0011', 'params': {'vdrive_major_version': 56, 'vreecu_version': '8.3.0', 'vdrive_patch_version': 0}}, {'name': 've-0014', 'params': {'vdrive_major_version': 54, 'vreecu_version': '0.0.0', 'depb_right': '2.1.1'}}, {'name': 've-0020', 'params': {'vdrive_major_version': 55, 'vreecu_version': '8.2.0', 'depb_right': '2.4.0', 'vdrive_patch_version': 1}}]}\n",
      "Matched Vehicles:\n",
      "{'2.12.0': ['ve-0010', 've-0012', 've-us-0001', 've-us-0002'], '2.11.0': ['ve-0015', 've-us-0003', 've-us-0005', 've-us-0007', 've-us-0008', 've-us-0009', 've-us-0010', 've-us-0011'], '2.10.0': []}\n"
     ]
    }
   ],
   "source": [
    "mismatched_vehicles = {}\n",
    "matched_vehicles = {}\n",
    "vsr_keys = [\"vdrive_major_version\", \"vdrive_minor_version\", \"vdrive_patch_version\", \"vreecu_version\", \"depb\"]\n",
    "vehicle_keys = [\"vdrive_major_version\", \"vdrive_minor_version\", \"vdrive_patch_version\", \"vreecu_version\", \"depb_right\"]\n",
    "for vsr_config in release_configurations:\n",
    "    mismatched_vehicles[vsr_config[\"vay_system_release\"]] = []\n",
    "    matched_vehicles[vsr_config[\"vay_system_release\"]] = []\n",
    "for vehicle_name, vehicle_params in vehicle_configuration.items():\n",
    "    match_found = False\n",
    "    for vsr_config in release_configurations:\n",
    "        if (\n",
    "            vehicle_params['vdrive_major_version'] == vsr_config['vdrive_major_version'] and\n",
    "            vehicle_params['vdrive_minor_version'] == vsr_config['vdrive_minor_version'] and\n",
    "            vehicle_params['vdrive_patch_version'] >= vsr_config['vdrive_patch_version'] and\n",
    "            vehicle_params['vreecu_version'] == vsr_config['vreecu_version'] and\n",
    "            vehicle_params['depb_right'] == vsr_config['depb']\n",
    "        ):\n",
    "            match_found = True\n",
    "            matched_vehicles[vsr_config[\"vay_system_release\"]].append(vehicle_name)\n",
    "            break\n",
    "        \n",
    "    if not match_found:\n",
    "        for vsr_config in release_configurations:\n",
    "            mismatch_params = {\n",
    "                vehicle_key: vehicle_params[vehicle_key] \n",
    "                for vsr_key, vehicle_key in zip(vsr_keys, vehicle_keys) \n",
    "                if vehicle_key != \"vdrive_patch_version\" and vehicle_params[vehicle_key] != vsr_config[vsr_key]\n",
    "            }\n",
    "            if vehicle_params['vdrive_patch_version'] < vsr_config['vdrive_patch_version']:\n",
    "                mismatch_params['vdrive_patch_version'] = vehicle_params['vdrive_patch_version']\n",
    "            mismatched_vehicles[vsr_config[\"vay_system_release\"]].append({'name': vehicle_name, 'params': mismatch_params})\n",
    "\n",
    "print(\"Mismatched Vehicles:\")\n",
    "print(mismatched_vehicles)\n",
    "print(\"Matched Vehicles:\")\n",
    "print(matched_vehicles)"
   ]
  },
  {
   "cell_type": "code",
   "execution_count": 216,
   "metadata": {},
   "outputs": [
    {
     "name": "stdout",
     "output_type": "stream",
     "text": [
      "*2.12.0*\n",
      "ve-0008\n",
      " vreecu_version 8.1.27559\n",
      "\n",
      "ve-0009\n",
      " vdrive_major_version 56\n",
      " vreecu_version 8.3.0\n",
      " vdrive_patch_version 0\n",
      "\n",
      "ve-0011\n",
      " vdrive_major_version 56\n",
      " vreecu_version 8.3.0\n",
      " vdrive_patch_version 0\n",
      "\n",
      "ve-0014\n",
      " vdrive_major_version 54\n",
      " vreecu_version 0.0.0\n",
      " depb_right 2.1.1\n",
      "\n",
      "ve-0020\n",
      " depb_right 2.4.0\n",
      "\n",
      "*2.11.0*\n",
      "ve-0008\n",
      " vdrive_major_version 55\n",
      " vreecu_version 8.1.27559\n",
      " vdrive_patch_version 1\n",
      "\n",
      "ve-0009\n",
      " vdrive_major_version 56\n",
      " vreecu_version 8.3.0\n",
      " vdrive_patch_version 0\n",
      "\n",
      "ve-0011\n",
      " vdrive_major_version 56\n",
      " vreecu_version 8.3.0\n",
      " vdrive_patch_version 0\n",
      "\n",
      "ve-0014\n",
      " vreecu_version 0.0.0\n",
      " depb_right 2.1.1\n",
      "\n",
      "ve-0020\n",
      " vdrive_major_version 55\n",
      " vreecu_version 8.2.0\n",
      " depb_right 2.4.0\n",
      " vdrive_patch_version 1\n",
      "\n",
      "*2.10.0*\n",
      "ve-0008\n",
      " vdrive_major_version 55\n",
      " vreecu_version 8.1.27559\n",
      " vdrive_patch_version 1\n",
      "\n",
      "ve-0009\n",
      " vdrive_major_version 56\n",
      " vreecu_version 8.3.0\n",
      " vdrive_patch_version 0\n",
      "\n",
      "ve-0011\n",
      " vdrive_major_version 56\n",
      " vreecu_version 8.3.0\n",
      " vdrive_patch_version 0\n",
      "\n",
      "ve-0014\n",
      " vdrive_major_version 54\n",
      " vreecu_version 0.0.0\n",
      " depb_right 2.1.1\n",
      "\n",
      "ve-0020\n",
      " vdrive_major_version 55\n",
      " vreecu_version 8.2.0\n",
      " depb_right 2.4.0\n",
      " vdrive_patch_version 1\n",
      "\n",
      "\n"
     ]
    }
   ],
   "source": [
    "mismatched_vehicles_string = \"\"\n",
    "for release in mismatched_vehicles:\n",
    "    mismatched_vehicles_string = mismatched_vehicles_string + \"*\" + release + \"*\" + \"\\n\"\n",
    "    for vehicle in mismatched_vehicles[release]:\n",
    "        mismatched_vehicles_string = mismatched_vehicles_string + vehicle[\"name\"] + \"\\n\"\n",
    "        for key in vehicle[\"params\"]:\n",
    "            mismatched_vehicles_string = mismatched_vehicles_string + \" \" + key + \" \" + str(vehicle[\"params\"][key]) + \"\\n\"\n",
    "        mismatched_vehicles_string = mismatched_vehicles_string + \"\\n\"\n",
    "\n",
    "print(mismatched_vehicles_string)"
   ]
  },
  {
   "cell_type": "code",
   "execution_count": 218,
   "metadata": {},
   "outputs": [
    {
     "ename": "KeyError",
     "evalue": "'telestation_vdrive'",
     "output_type": "error",
     "traceback": [
      "\u001b[0;31m---------------------------------------------------------------------------\u001b[0m",
      "\u001b[0;31mKeyError\u001b[0m                                  Traceback (most recent call last)",
      "Cell \u001b[0;32mIn[218], line 14\u001b[0m\n\u001b[1;32m     11\u001b[0m match_found \u001b[38;5;241m=\u001b[39m \u001b[38;5;28;01mFalse\u001b[39;00m\n\u001b[1;32m     12\u001b[0m \u001b[38;5;28;01mfor\u001b[39;00m vsr_config \u001b[38;5;129;01min\u001b[39;00m release_config:\n\u001b[1;32m     13\u001b[0m     \u001b[38;5;28;01mif\u001b[39;00m (\n\u001b[0;32m---> 14\u001b[0m         \u001b[43mtelestation_params\u001b[49m\u001b[43m[\u001b[49m\u001b[38;5;124;43m'\u001b[39;49m\u001b[38;5;124;43mtelestation_vdrive\u001b[39;49m\u001b[38;5;124;43m'\u001b[39;49m\u001b[43m]\u001b[49m \u001b[38;5;241m==\u001b[39m vsr_config[\u001b[38;5;124m'\u001b[39m\u001b[38;5;124mvdrive\u001b[39m\u001b[38;5;124m'\u001b[39m] \u001b[38;5;129;01mand\u001b[39;00m\n\u001b[1;32m     15\u001b[0m         telestation_params[\u001b[38;5;124m'\u001b[39m\u001b[38;5;124mtelestation_reecu\u001b[39m\u001b[38;5;124m'\u001b[39m] \u001b[38;5;241m==\u001b[39m vsr_config[\u001b[38;5;124m'\u001b[39m\u001b[38;5;124mreecu\u001b[39m\u001b[38;5;124m'\u001b[39m]\n\u001b[1;32m     16\u001b[0m     ):\n\u001b[1;32m     17\u001b[0m         match_found \u001b[38;5;241m=\u001b[39m \u001b[38;5;28;01mTrue\u001b[39;00m\n\u001b[1;32m     18\u001b[0m         matched_telestations[vsr_config[\u001b[38;5;124m\"\u001b[39m\u001b[38;5;124mVSR\u001b[39m\u001b[38;5;124m\"\u001b[39m]]\u001b[38;5;241m.\u001b[39mappend(telestation_name)\n",
      "\u001b[0;31mKeyError\u001b[0m: 'telestation_vdrive'"
     ]
    }
   ],
   "source": [
    "mismatched_telestations = {}\n",
    "matched_telestations = {}\n",
    "vsr_keys = [\"vdrive\", \"reecu\"]\n",
    "telestation_keys = [\"telestation_vdrive\", \"telestation_reecu\"]\n",
    "\n",
    "for vsr_config in release_config:\n",
    "    mismatched_telestations[vsr_config[\"VSR\"]] = []\n",
    "    matched_telestations[vsr_config[\"VSR\"]] = []\n",
    "    \n",
    "for telestation_name, telestation_params in telestation_configuration.items():\n",
    "    match_found = False\n",
    "    for vsr_config in release_config:\n",
    "        if (\n",
    "            telestation_params['vdrive_major_version'] == vsr_config['vdrive_major_version'] and\n",
    "            telestation_params['vdrive_minor_version'] == vsr_config['vdrive_minor_version'] and\n",
    "            telestation_params['vdrive_patch_version'] >= vsr_config['vdrive_patch_version'] and\n",
    "            telestation_params['vreecu_version'] == vsr_config['vreecu_version'] and\n",
    "        ):\n",
    "            match_found = True\n",
    "            matched_telestations[vsr_config[\"VSR\"]].append(telestation_name)\n",
    "            break\n",
    "    if match_found == False:\n",
    "        for vsr_config in release_config:\n",
    "            mismatched_telestations[vsr_config[\"VSR\"]].append({\n",
    "                'name': telestation_name,\n",
    "                'params': {telestation_key: telestation_params[telestation_key] for vsr_key, telestation_key in zip(vsr_keys, telestation_keys) if telestation_params[telestation_key] != vsr_config[vsr_key]}\n",
    "            })\n",
    "\n",
    "print(\"Mismatched Telestations:\")\n",
    "print(mismatched_telestations)\n",
    "print(\"Matched Telestations:\")\n",
    "print(matched_telestations)"
   ]
  },
  {
   "cell_type": "code",
   "execution_count": 213,
   "metadata": {},
   "outputs": [
    {
     "ename": "TypeError",
     "evalue": "unhashable type: 'list'",
     "output_type": "error",
     "traceback": [
      "\u001b[0;31m---------------------------------------------------------------------------\u001b[0m",
      "\u001b[0;31mTypeError\u001b[0m                                 Traceback (most recent call last)",
      "Cell \u001b[0;32mIn[213], line 25\u001b[0m\n\u001b[1;32m     23\u001b[0m \u001b[38;5;28;01mif\u001b[39;00m \u001b[38;5;129;01mnot\u001b[39;00m match_found:\n\u001b[1;32m     24\u001b[0m     \u001b[38;5;28;01mfor\u001b[39;00m vsr_config \u001b[38;5;129;01min\u001b[39;00m release_configurations:\n\u001b[0;32m---> 25\u001b[0m         mismatch_params \u001b[38;5;241m=\u001b[39m \u001b[43m{\u001b[49m\n\u001b[1;32m     26\u001b[0m \u001b[43m            \u001b[49m\u001b[43mtelestation_keys\u001b[49m\u001b[43m:\u001b[49m\u001b[43m \u001b[49m\u001b[43mtelestation_params\u001b[49m\u001b[43m[\u001b[49m\u001b[43mtelestation_keys\u001b[49m\u001b[43m]\u001b[49m\u001b[43m \u001b[49m\n\u001b[1;32m     27\u001b[0m \u001b[43m            \u001b[49m\u001b[38;5;28;43;01mfor\u001b[39;49;00m\u001b[43m \u001b[49m\u001b[43mvsr_key\u001b[49m\u001b[43m,\u001b[49m\u001b[43m \u001b[49m\u001b[43mtelestation_key\u001b[49m\u001b[43m \u001b[49m\u001b[38;5;129;43;01min\u001b[39;49;00m\u001b[43m \u001b[49m\u001b[38;5;28;43mzip\u001b[39;49m\u001b[43m(\u001b[49m\u001b[43mvsr_keys\u001b[49m\u001b[43m,\u001b[49m\u001b[43m \u001b[49m\u001b[43mtelestation_keys\u001b[49m\u001b[43m)\u001b[49m\u001b[43m \u001b[49m\n\u001b[1;32m     28\u001b[0m \u001b[43m            \u001b[49m\u001b[38;5;28;43;01mif\u001b[39;49;00m\u001b[43m \u001b[49m\u001b[43mtelestation_key\u001b[49m\u001b[43m \u001b[49m\u001b[38;5;241;43m!=\u001b[39;49m\u001b[43m \u001b[49m\u001b[38;5;124;43m\"\u001b[39;49m\u001b[38;5;124;43mvdrive_patch_version\u001b[39;49m\u001b[38;5;124;43m\"\u001b[39;49m\u001b[43m \u001b[49m\u001b[38;5;129;43;01mand\u001b[39;49;00m\u001b[43m \u001b[49m\u001b[43mvehicle_params\u001b[49m\u001b[43m[\u001b[49m\u001b[43mtelestation_key\u001b[49m\u001b[43m]\u001b[49m\u001b[43m \u001b[49m\u001b[38;5;241;43m!=\u001b[39;49m\u001b[43m \u001b[49m\u001b[43mvsr_config\u001b[49m\u001b[43m[\u001b[49m\u001b[43mvsr_key\u001b[49m\u001b[43m]\u001b[49m\n\u001b[1;32m     29\u001b[0m \u001b[43m        \u001b[49m\u001b[43m}\u001b[49m\n\u001b[1;32m     30\u001b[0m         \u001b[38;5;28;01mif\u001b[39;00m telestation_params[\u001b[38;5;124m'\u001b[39m\u001b[38;5;124mvdrive_patch_version\u001b[39m\u001b[38;5;124m'\u001b[39m] \u001b[38;5;241m<\u001b[39m vsr_config[\u001b[38;5;124m'\u001b[39m\u001b[38;5;124mvdrive_patch_version\u001b[39m\u001b[38;5;124m'\u001b[39m]:\n\u001b[1;32m     31\u001b[0m             mismatch_params[\u001b[38;5;124m'\u001b[39m\u001b[38;5;124mvdrive_patch_version\u001b[39m\u001b[38;5;124m'\u001b[39m] \u001b[38;5;241m=\u001b[39m telestation_params[\u001b[38;5;124m'\u001b[39m\u001b[38;5;124mvdrive_patch_version\u001b[39m\u001b[38;5;124m'\u001b[39m]\n",
      "Cell \u001b[0;32mIn[213], line 26\u001b[0m, in \u001b[0;36m<dictcomp>\u001b[0;34m(.0)\u001b[0m\n\u001b[1;32m     23\u001b[0m \u001b[38;5;28;01mif\u001b[39;00m \u001b[38;5;129;01mnot\u001b[39;00m match_found:\n\u001b[1;32m     24\u001b[0m     \u001b[38;5;28;01mfor\u001b[39;00m vsr_config \u001b[38;5;129;01min\u001b[39;00m release_configurations:\n\u001b[1;32m     25\u001b[0m         mismatch_params \u001b[38;5;241m=\u001b[39m {\n\u001b[0;32m---> 26\u001b[0m             telestation_keys: \u001b[43mtelestation_params\u001b[49m\u001b[43m[\u001b[49m\u001b[43mtelestation_keys\u001b[49m\u001b[43m]\u001b[49m \n\u001b[1;32m     27\u001b[0m             \u001b[38;5;28;01mfor\u001b[39;00m vsr_key, telestation_key \u001b[38;5;129;01min\u001b[39;00m \u001b[38;5;28mzip\u001b[39m(vsr_keys, telestation_keys) \n\u001b[1;32m     28\u001b[0m             \u001b[38;5;28;01mif\u001b[39;00m telestation_key \u001b[38;5;241m!=\u001b[39m \u001b[38;5;124m\"\u001b[39m\u001b[38;5;124mvdrive_patch_version\u001b[39m\u001b[38;5;124m\"\u001b[39m \u001b[38;5;129;01mand\u001b[39;00m vehicle_params[telestation_key] \u001b[38;5;241m!=\u001b[39m vsr_config[vsr_key]\n\u001b[1;32m     29\u001b[0m         }\n\u001b[1;32m     30\u001b[0m         \u001b[38;5;28;01mif\u001b[39;00m telestation_params[\u001b[38;5;124m'\u001b[39m\u001b[38;5;124mvdrive_patch_version\u001b[39m\u001b[38;5;124m'\u001b[39m] \u001b[38;5;241m<\u001b[39m vsr_config[\u001b[38;5;124m'\u001b[39m\u001b[38;5;124mvdrive_patch_version\u001b[39m\u001b[38;5;124m'\u001b[39m]:\n\u001b[1;32m     31\u001b[0m             mismatch_params[\u001b[38;5;124m'\u001b[39m\u001b[38;5;124mvdrive_patch_version\u001b[39m\u001b[38;5;124m'\u001b[39m] \u001b[38;5;241m=\u001b[39m telestation_params[\u001b[38;5;124m'\u001b[39m\u001b[38;5;124mvdrive_patch_version\u001b[39m\u001b[38;5;124m'\u001b[39m]\n",
      "\u001b[0;31mTypeError\u001b[0m: unhashable type: 'list'"
     ]
    }
   ],
   "source": [
    "mismatched_telestations = {}\n",
    "matched_telestations = {}\n",
    "vsr_keys = [\"vdrive_major_version\", \"vdrive_minor_version\", \"vdrive_patch_version\", \"vreecu_version\"]\n",
    "telestation_keys = [\"vdrive_major_version\", \"vdrive_minor_version\", \"vdrive_patch_version\", \"vreecu_version\"]\n",
    "\n",
    "for vsr_config in release_configurations:\n",
    "    mismatched_telestations[vsr_config[\"vay_system_release\"]] = []\n",
    "    matched_telestations[vsr_config[\"vay_system_release\"]] = []\n",
    "\n",
    "for telestation_name, telestation_params in telestation_configuration.items():\n",
    "    match_found = False\n",
    "    for vsr_config in release_configurations:\n",
    "        if (\n",
    "            telestation_params['vdrive_major_version'] == vsr_config['vdrive_major_version'] and\n",
    "            telestation_params['vdrive_minor_version'] == vsr_config['vdrive_minor_version'] and\n",
    "            telestation_params['vdrive_patch_version'] >= vsr_config['vdrive_patch_version'] and\n",
    "            telestation_params['vreecu_version'] == vsr_config['vreecu_version']\n",
    "        ):\n",
    "            match_found = True\n",
    "            matched_telestations[vsr_config[\"vay_system_release\"]].append(telestation_name)\n",
    "            break\n",
    "\n",
    "    if not match_found:\n",
    "        for vsr_config in release_configurations:\n",
    "            mismatch_params = {\n",
    "                telestation_keys: telestation_params[telestation_keys] \n",
    "                for vsr_key, telestation_key in zip(vsr_keys, telestation_keys) \n",
    "                if telestation_key != \"vdrive_patch_version\" and vehicle_params[telestation_key] != vsr_config[vsr_key]\n",
    "            }\n",
    "            if telestation_params['vdrive_patch_version'] < vsr_config['vdrive_patch_version']:\n",
    "                mismatch_params['vdrive_patch_version'] = telestation_params['vdrive_patch_version']\n",
    "            mismatched_telestations[vsr_config[\"vay_system_release\"]].append({'name': telestation_name, 'params': mismatch_params})\n",
    "\n",
    "print(\"Mismatched Telestations:\")\n",
    "print(mismatched_telestations)\n",
    "print(\"Matched Telestations:\")\n",
    "print(matched_telestations)"
   ]
  },
  {
   "cell_type": "code",
   "execution_count": null,
   "metadata": {},
   "outputs": [],
   "source": [
    "def misconfiguration_string(mismatched_configuraiton: dict, ):\n",
    "    mismatched_vehicles_string = \"\"\n",
    "    for release in mismatched_configuraiton:\n",
    "        mismatched_vehicles_string = mismatched_vehicles_string + \"*\" + release + \"*\" + \"\\n\"\n",
    "        for system in mismatched_configuraiton[release]:\n",
    "            mismatched_vehicles_string = mismatched_vehicles_string + system[\"name\"] + \"\\n\"\n",
    "            for key in system[\"params\"]:\n",
    "                mismatched_vehicles_string = mismatched_vehicles_string + \" \" + key + \" \" + system[\"params\"][key] + \"\\n\"\n",
    "            mismatched_vehicles_string = mismatched_vehicles_string + \"\\n\"\n",
    "\n",
    "    return mismatched_vehicles_string"
   ]
  }
 ],
 "metadata": {
  "kernelspec": {
   "display_name": "release",
   "language": "python",
   "name": "python3"
  },
  "language_info": {
   "codemirror_mode": {
    "name": "ipython",
    "version": 3
   },
   "file_extension": ".py",
   "mimetype": "text/x-python",
   "name": "python",
   "nbconvert_exporter": "python",
   "pygments_lexer": "ipython3",
   "version": "3.11.0"
  }
 },
 "nbformat": 4,
 "nbformat_minor": 2
}
