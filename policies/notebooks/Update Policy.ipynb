{
 "cells": [
  {
   "cell_type": "code",
   "execution_count": null,
   "id": "008c345a",
   "metadata": {},
   "outputs": [],
   "source": [
    "import snowflake.connector\n",
    "import yaml\n",
    "import src.policy_helper as policy_helper\n",
    "import time"
   ]
  },
  {
   "cell_type": "code",
   "execution_count": null,
   "metadata": {},
   "outputs": [],
   "source": [
    "las_vegas_odds = ['las-vegas-odd-imperial-ave', 'las-vegas-odd-ops-validation', 'las-vegas-odd-commercial-unlv', 'las-vegas-odd-city-exploration']\n",
    "berlin_odds = ['berlin-odd-v1', 'berlin-odd-route-30kmh', 'berlin-odd-northpole', 'berlin-odd-city-exploration']\n",
    "hamburg_odds = ['hamburg-odd-v1.2', 'hamburg-odd-v1.2.1', 'hamburg-odd-v1.3', 'hamburg-odd-v0'] \n",
    "all_odds = las_vegas_odds + berlin_odds + hamburg_odds\n",
    "\n",
    "query_config = yaml.safe_load(open('../config.yaml', 'r'))"
   ]
  },
  {
   "cell_type": "code",
   "execution_count": null,
   "id": "c4b3b81a",
   "metadata": {},
   "outputs": [],
   "source": [
    "con = snowflake.connector.connect(\n",
    "    user=query_config['user'],\n",
    "    authenticator=query_config['authenticator'],\n",
    "    account=query_config['account'],\n",
    "    warehouse=query_config['warehouse'],\n",
    "    database=query_config['database'],\n",
    "    session_parameters={\n",
    "        'QUERY_TAG': 'Get ODD ID by name'\n",
    "    }\n",
    ")"
   ]
  },
  {
   "cell_type": "code",
   "execution_count": null,
   "metadata": {},
   "outputs": [],
   "source": [
    "def get_ids_for_odds(odd_names: list[str]) -> list[str]:\n",
    "    query = \"\"\"select odd_id\n",
    "    from core_routing.odds \n",
    "    where odd_name in (%)\n",
    "    \"\"\"\n",
    "\n",
    "    query = query.replace('%', ', '.join(map(lambda x: f\"'{x}'\", odd_names)))\n",
    "    odd_ids = [odd[0] for odd in con.cursor().execute(query).fetchall()]\n",
    "    return odd_ids"
   ]
  },
  {
   "cell_type": "code",
   "execution_count": null,
   "id": "05d4bdf9",
   "metadata": {},
   "outputs": [],
   "source": [
    "#new_policy_id = '85e4f780-7487-4300-aa46-d6abb63dd925' #VSR 2.3\n",
    "#new_policy_ids = [\"85e4f780-7487-4300-aa46-d6abb63dd925\", \"61403bb4-5722-48d4-9866-c3aa04e662e8\", \"b039889e-405d-4af1-ad64-6fc5abf997a5\", \"13cf73ed-91e0-42d4-a4a6-55ac113fecff\"]#VSR 2.3, v2, VSR 2.4, v2\n",
    "#new_policy_ids = [\"85e4f780-7487-4300-aa46-d6abb63dd925\",\"61403bb4-5722-48d4-9866-c3aa04e662e8\",\"b039889e-405d-4af1-ad64-6fc5abf997a5\",\"13cf73ed-91e0-42d4-a4a6-55ac113fecff\",\"1fc66774-0891-4829-a476-35aabd06e7b1\"]\n",
    "#new_policy_ids = [\"1fc66774-0891-4829-a476-35aabd06e7b1\"] #VSR 2.6\n",
    "new_policy_ids = ['9c662040-9754-405b-818d-de27f31e970a']\n",
    "odd_ids = get_ids_for_odds(all_odds)\n",
    "\n",
    "for odd_id in odd_ids:\n",
    "    response = policy_helper.sendPolicyAPIRequest(odd_id,new_policy_ids,True)\n",
    "    print(response)\n",
    "    print('-----------------')\n",
    "    time.sleep(1.5)"
   ]
  },
  {
   "cell_type": "code",
   "execution_count": null,
   "id": "db048d75",
   "metadata": {},
   "outputs": [],
   "source": [
    "# import time\n",
    "# new_access_type = 'ACCESS_TYPE_PUBLIC_STREETS'\n",
    "# odd_ids = get_ids_for_odds(all_odds)\n",
    "\n",
    "# for odd_id in odd_ids:\n",
    "#     response = policy_helper.sendAccessTypeAPIRequest(odd_id,new_access_type,True)\n",
    "#     print(response)\n",
    "#     print('-----------------')\n",
    "#     time.sleep(1.5)"
   ]
  },
  {
   "cell_type": "code",
   "execution_count": null,
   "id": "791846f7",
   "metadata": {},
   "outputs": [],
   "source": [
    "#service_odds = ['las-vegas-odd-internal-car-sharing-service','berlin-odd-internal-car-sharing-service', 'berlin-odd-v1']\n",
    "other_odds = ['hamburg-odd-v2.1-big', 'las-vegas-odd-south-charleston', 'hamburg-odd-use-case-investigation', 'berlin-odd-operation-pizza-zero', 'hamburg-odd-v2.2', 'hamburg-odd-v0plus', 'berlin-odd-city-exploration']\n",
    "new_access_type = 'ACCESS_TYPE_PUBLIC_STREETS'\n",
    "odd_ids = get_ids_for_odds(other_odds)\n",
    "\n",
    "for odd_id in odd_ids:\n",
    "    response = policy_helper.sendAccessTypeAPIRequest(odd_id,new_access_type,False)\n",
    "    print(response)\n",
    "    print('-----------------')\n",
    "    time.sleep(1.5)"
   ]
  },
  {
   "cell_type": "code",
   "execution_count": null,
   "id": "0fa00552",
   "metadata": {},
   "outputs": [],
   "source": [
    "# We commented the following lines out because the ODD service now does not change the lifecycle state to VALIDATION on update anymore.\n",
    "# qualified_odds = ['hamburg-odd-v0', 'las-vegas-odd-imperial-ave']\n",
    "# service_odds = ['las-vegas-odd-internal-car-sharing-service','berlin-odd-internal-car-sharing-service', 'berlin-odd-v1']"
   ]
  },
  {
   "cell_type": "code",
   "execution_count": null,
   "id": "2f0e669b",
   "metadata": {},
   "outputs": [],
   "source": [
    "# new_lifecycle_state = 'LIFECYCLE_STATUS_SERVICE' \n",
    "# odd_ids = get_ids_for_odds(service_odds)\n",
    "\n",
    "# time.sleep(60)\n",
    "\n",
    "# for odd_id in odd_ids:\n",
    "#     response = policy_helper.sendLifecycleAPIRequest(odd_id,new_lifecycle_state,True)\n",
    "#     print(response)\n",
    "#     print('-----------------')\n",
    "#     time.sleep(1.5)\n",
    "\n",
    "\n",
    "# new_lifecycle_state = 'LIFECYCLE_STATUS_QUALIFIED' \n",
    "# odd_ids = get_ids_for_odds(qualified_odds)\n",
    "\n",
    "# for odd_id in odd_ids:\n",
    "#     response = policy_helper.sendLifecycleAPIRequest(odd_id,new_lifecycle_state,True)\n",
    "#     print(response)\n",
    "#     print('-----------------')\n",
    "#     time.sleep(1.5)\n",
    "\n"
   ]
  }
 ],
 "metadata": {
  "kernelspec": {
   "display_name": "Python 3 (ipykernel)",
   "language": "python",
   "name": "python3"
  },
  "language_info": {
   "codemirror_mode": {
    "name": "ipython",
    "version": 3
   },
   "file_extension": ".py",
   "mimetype": "text/x-python",
   "name": "python",
   "nbconvert_exporter": "python",
   "pygments_lexer": "ipython3",
   "version": "3.11.0"
  }
 },
 "nbformat": 4,
 "nbformat_minor": 5
}
